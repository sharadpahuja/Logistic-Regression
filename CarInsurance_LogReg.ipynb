{
 "cells": [
  {
   "cell_type": "code",
   "execution_count": 1,
   "metadata": {},
   "outputs": [],
   "source": [
    "import pandas as pd\n",
    "import numpy as np\n",
    "import seaborn as sns\n",
    "import matplotlib.pyplot as plt\n",
    "%matplotlib inline"
   ]
  },
  {
   "cell_type": "code",
   "execution_count": 2,
   "metadata": {},
   "outputs": [],
   "source": [
    "insurance_data = pd.read_csv('carInsurance_train.csv')\n",
    "insurance_test = pd.read_csv('carInsurance_test.csv')"
   ]
  },
  {
   "cell_type": "code",
   "execution_count": 3,
   "metadata": {},
   "outputs": [
    {
     "data": {
      "text/plain": [
       "(4000, 19)"
      ]
     },
     "execution_count": 3,
     "metadata": {},
     "output_type": "execute_result"
    }
   ],
   "source": [
    "insurance_data.shape"
   ]
  },
  {
   "cell_type": "code",
   "execution_count": 4,
   "metadata": {},
   "outputs": [
    {
     "data": {
      "text/plain": [
       "(1000, 19)"
      ]
     },
     "execution_count": 4,
     "metadata": {},
     "output_type": "execute_result"
    }
   ],
   "source": [
    "insurance_test.shape"
   ]
  },
  {
   "cell_type": "code",
   "execution_count": 5,
   "metadata": {},
   "outputs": [
    {
     "data": {
      "text/html": [
       "<div>\n",
       "<style scoped>\n",
       "    .dataframe tbody tr th:only-of-type {\n",
       "        vertical-align: middle;\n",
       "    }\n",
       "\n",
       "    .dataframe tbody tr th {\n",
       "        vertical-align: top;\n",
       "    }\n",
       "\n",
       "    .dataframe thead th {\n",
       "        text-align: right;\n",
       "    }\n",
       "</style>\n",
       "<table border=\"1\" class=\"dataframe\">\n",
       "  <thead>\n",
       "    <tr style=\"text-align: right;\">\n",
       "      <th></th>\n",
       "      <th>Id</th>\n",
       "      <th>Age</th>\n",
       "      <th>Job</th>\n",
       "      <th>Marital</th>\n",
       "      <th>Education</th>\n",
       "      <th>Default</th>\n",
       "      <th>Balance</th>\n",
       "      <th>HHInsurance</th>\n",
       "      <th>CarLoan</th>\n",
       "      <th>Communication</th>\n",
       "      <th>LastContactDay</th>\n",
       "      <th>LastContactMonth</th>\n",
       "      <th>NoOfContacts</th>\n",
       "      <th>DaysPassed</th>\n",
       "      <th>PrevAttempts</th>\n",
       "      <th>Outcome</th>\n",
       "      <th>CallStart</th>\n",
       "      <th>CallEnd</th>\n",
       "      <th>CarInsurance</th>\n",
       "    </tr>\n",
       "  </thead>\n",
       "  <tbody>\n",
       "    <tr>\n",
       "      <th>0</th>\n",
       "      <td>1</td>\n",
       "      <td>32</td>\n",
       "      <td>management</td>\n",
       "      <td>single</td>\n",
       "      <td>tertiary</td>\n",
       "      <td>0</td>\n",
       "      <td>1218</td>\n",
       "      <td>1</td>\n",
       "      <td>0</td>\n",
       "      <td>telephone</td>\n",
       "      <td>28</td>\n",
       "      <td>jan</td>\n",
       "      <td>2</td>\n",
       "      <td>-1</td>\n",
       "      <td>0</td>\n",
       "      <td>NaN</td>\n",
       "      <td>13:45:20</td>\n",
       "      <td>13:46:30</td>\n",
       "      <td>0</td>\n",
       "    </tr>\n",
       "    <tr>\n",
       "      <th>1</th>\n",
       "      <td>2</td>\n",
       "      <td>32</td>\n",
       "      <td>blue-collar</td>\n",
       "      <td>married</td>\n",
       "      <td>primary</td>\n",
       "      <td>0</td>\n",
       "      <td>1156</td>\n",
       "      <td>1</td>\n",
       "      <td>0</td>\n",
       "      <td>NaN</td>\n",
       "      <td>26</td>\n",
       "      <td>may</td>\n",
       "      <td>5</td>\n",
       "      <td>-1</td>\n",
       "      <td>0</td>\n",
       "      <td>NaN</td>\n",
       "      <td>14:49:03</td>\n",
       "      <td>14:52:08</td>\n",
       "      <td>0</td>\n",
       "    </tr>\n",
       "    <tr>\n",
       "      <th>2</th>\n",
       "      <td>3</td>\n",
       "      <td>29</td>\n",
       "      <td>management</td>\n",
       "      <td>single</td>\n",
       "      <td>tertiary</td>\n",
       "      <td>0</td>\n",
       "      <td>637</td>\n",
       "      <td>1</td>\n",
       "      <td>0</td>\n",
       "      <td>cellular</td>\n",
       "      <td>3</td>\n",
       "      <td>jun</td>\n",
       "      <td>1</td>\n",
       "      <td>119</td>\n",
       "      <td>1</td>\n",
       "      <td>failure</td>\n",
       "      <td>16:30:24</td>\n",
       "      <td>16:36:04</td>\n",
       "      <td>1</td>\n",
       "    </tr>\n",
       "    <tr>\n",
       "      <th>3</th>\n",
       "      <td>4</td>\n",
       "      <td>25</td>\n",
       "      <td>student</td>\n",
       "      <td>single</td>\n",
       "      <td>primary</td>\n",
       "      <td>0</td>\n",
       "      <td>373</td>\n",
       "      <td>1</td>\n",
       "      <td>0</td>\n",
       "      <td>cellular</td>\n",
       "      <td>11</td>\n",
       "      <td>may</td>\n",
       "      <td>2</td>\n",
       "      <td>-1</td>\n",
       "      <td>0</td>\n",
       "      <td>NaN</td>\n",
       "      <td>12:06:43</td>\n",
       "      <td>12:20:22</td>\n",
       "      <td>1</td>\n",
       "    </tr>\n",
       "    <tr>\n",
       "      <th>4</th>\n",
       "      <td>5</td>\n",
       "      <td>30</td>\n",
       "      <td>management</td>\n",
       "      <td>married</td>\n",
       "      <td>tertiary</td>\n",
       "      <td>0</td>\n",
       "      <td>2694</td>\n",
       "      <td>0</td>\n",
       "      <td>0</td>\n",
       "      <td>cellular</td>\n",
       "      <td>3</td>\n",
       "      <td>jun</td>\n",
       "      <td>1</td>\n",
       "      <td>-1</td>\n",
       "      <td>0</td>\n",
       "      <td>NaN</td>\n",
       "      <td>14:35:44</td>\n",
       "      <td>14:38:56</td>\n",
       "      <td>0</td>\n",
       "    </tr>\n",
       "  </tbody>\n",
       "</table>\n",
       "</div>"
      ],
      "text/plain": [
       "   Id  Age          Job  Marital Education  Default  Balance  HHInsurance  \\\n",
       "0   1   32   management   single  tertiary        0     1218            1   \n",
       "1   2   32  blue-collar  married   primary        0     1156            1   \n",
       "2   3   29   management   single  tertiary        0      637            1   \n",
       "3   4   25      student   single   primary        0      373            1   \n",
       "4   5   30   management  married  tertiary        0     2694            0   \n",
       "\n",
       "   CarLoan Communication  LastContactDay LastContactMonth  NoOfContacts  \\\n",
       "0        0     telephone              28              jan             2   \n",
       "1        0           NaN              26              may             5   \n",
       "2        0      cellular               3              jun             1   \n",
       "3        0      cellular              11              may             2   \n",
       "4        0      cellular               3              jun             1   \n",
       "\n",
       "   DaysPassed  PrevAttempts  Outcome CallStart   CallEnd  CarInsurance  \n",
       "0          -1             0      NaN  13:45:20  13:46:30             0  \n",
       "1          -1             0      NaN  14:49:03  14:52:08             0  \n",
       "2         119             1  failure  16:30:24  16:36:04             1  \n",
       "3          -1             0      NaN  12:06:43  12:20:22             1  \n",
       "4          -1             0      NaN  14:35:44  14:38:56             0  "
      ]
     },
     "execution_count": 5,
     "metadata": {},
     "output_type": "execute_result"
    }
   ],
   "source": [
    "insurance_data.head()"
   ]
  },
  {
   "cell_type": "code",
   "execution_count": 6,
   "metadata": {},
   "outputs": [
    {
     "data": {
      "text/plain": [
       "<matplotlib.axes._subplots.AxesSubplot at 0x8fb594ab80>"
      ]
     },
     "execution_count": 6,
     "metadata": {},
     "output_type": "execute_result"
    },
    {
     "data": {
      "image/png": "[encoded data removed]",
      "text/plain": [
       "<Figure size 432x288 with 1 Axes>"
      ]
     },
     "metadata": {
      "needs_background": "light"
     },
     "output_type": "display_data"
    }
   ],
   "source": [
    "sns.countplot('CarInsurance',data=insurance_data)"
   ]
  },
  {
   "cell_type": "code",
   "execution_count": 7,
   "metadata": {},
   "outputs": [
    {
     "data": {
      "text/plain": [
       "<matplotlib.axes._subplots.AxesSubplot at 0x8fb6116670>"
      ]
     },
     "execution_count": 7,
     "metadata": {},
     "output_type": "execute_result"
    },
    {
     "data": {
      "image/png": "[encoded data removed]",
      "text/plain": [
       "<Figure size 432x288 with 1 Axes>"
      ]
     },
     "metadata": {
      "needs_background": "light"
     },
     "output_type": "display_data"
    }
   ],
   "source": [
    "sns.scatterplot('Age','CarInsurance',data=insurance_data)"
   ]
  },
  {
   "cell_type": "code",
   "execution_count": 8,
   "metadata": {},
   "outputs": [
    {
     "data": {
      "text/plain": [
       "<matplotlib.axes._subplots.AxesSubplot at 0x8fb5a2dfa0>"
      ]
     },
     "execution_count": 8,
     "metadata": {},
     "output_type": "execute_result"
    },
    {
     "data": {
      "image/png": "[encoded data removed]",
      "text/plain": [
       "<Figure size 1152x432 with 1 Axes>"
      ]
     },
     "metadata": {
      "needs_background": "light"
     },
     "output_type": "display_data"
    }
   ],
   "source": [
    "plt.figure(figsize=(16,6))\n",
    "sns.countplot('Marital',hue='CarInsurance',data=insurance_data)"
   ]
  },
  {
   "cell_type": "code",
   "execution_count": 9,
   "metadata": {},
   "outputs": [
    {
     "name": "stderr",
     "output_type": "stream",
     "text": [
      "C:\\Users\\Sharad\\anaconda3\\lib\\site-packages\\seaborn\\distributions.py:369: UserWarning: Default bandwidth for data is 0; skipping density estimation.\n",
      "  warnings.warn(msg, UserWarning)\n",
      "C:\\Users\\Sharad\\anaconda3\\lib\\site-packages\\seaborn\\distributions.py:369: UserWarning: Default bandwidth for data is 0; skipping density estimation.\n",
      "  warnings.warn(msg, UserWarning)\n"
     ]
    },
    {
     "data": {
      "text/plain": [
       "<seaborn.axisgrid.PairGrid at 0x8fb0971880>"
      ]
     },
     "execution_count": 9,
     "metadata": {},
     "output_type": "execute_result"
    },
    {
     "data": {
      "image/png": "[encoded data removed]",
      "text/plain": [
       "<Figure size 794.25x720 with 20 Axes>"
      ]
     },
     "metadata": {
      "needs_background": "light"
     },
     "output_type": "display_data"
    }
   ],
   "source": [
    "cols = ['CarInsurance','Age','Balance','HHInsurance','CarLoan']\n",
    "sns.pairplot(insurance_data[cols],hue='CarInsurance')"
   ]
  },
  {
   "cell_type": "code",
   "execution_count": 10,
   "metadata": {},
   "outputs": [
    {
     "data": {
      "text/plain": [
       "<matplotlib.axes._subplots.AxesSubplot at 0x8fb6dd2f40>"
      ]
     },
     "execution_count": 10,
     "metadata": {},
     "output_type": "execute_result"
    },
    {
     "data": {
      "image/png": "[encoded data removed]",
      "text/plain": [
       "<Figure size 432x288 with 1 Axes>"
      ]
     },
     "metadata": {
      "needs_background": "light"
     },
     "output_type": "display_data"
    }
   ],
   "source": [
    "sns.distplot(insurance_data['Age'][insurance_data['CarInsurance']==1],hist=False,color='red')\n",
    "sns.distplot(insurance_data['Age'][insurance_data['CarInsurance']==0],hist=False,color='blue')"
   ]
  },
  {
   "cell_type": "code",
   "execution_count": 11,
   "metadata": {},
   "outputs": [
    {
     "data": {
      "text/plain": [
       "<matplotlib.axes._subplots.AxesSubplot at 0x8fb7670100>"
      ]
     },
     "execution_count": 11,
     "metadata": {},
     "output_type": "execute_result"
    },
    {
     "data": {
      "image/png": "[encoded data removed]",
      "text/plain": [
       "<Figure size 432x288 with 1 Axes>"
      ]
     },
     "metadata": {
      "needs_background": "light"
     },
     "output_type": "display_data"
    }
   ],
   "source": [
    "sns.scatterplot(hue='CarInsurance',y='Age',x='Balance',data=insurance_data)"
   ]
  },
  {
   "cell_type": "code",
   "execution_count": 12,
   "metadata": {},
   "outputs": [
    {
     "data": {
      "text/html": [
       "<div>\n",
       "<style scoped>\n",
       "    .dataframe tbody tr th:only-of-type {\n",
       "        vertical-align: middle;\n",
       "    }\n",
       "\n",
       "    .dataframe tbody tr th {\n",
       "        vertical-align: top;\n",
       "    }\n",
       "\n",
       "    .dataframe thead th {\n",
       "        text-align: right;\n",
       "    }\n",
       "</style>\n",
       "<table border=\"1\" class=\"dataframe\">\n",
       "  <thead>\n",
       "    <tr style=\"text-align: right;\">\n",
       "      <th></th>\n",
       "      <th>Id</th>\n",
       "      <th>Age</th>\n",
       "      <th>Job</th>\n",
       "      <th>Marital</th>\n",
       "      <th>Education</th>\n",
       "      <th>Default</th>\n",
       "      <th>Balance</th>\n",
       "      <th>HHInsurance</th>\n",
       "      <th>CarLoan</th>\n",
       "      <th>Communication</th>\n",
       "      <th>LastContactDay</th>\n",
       "      <th>LastContactMonth</th>\n",
       "      <th>NoOfContacts</th>\n",
       "      <th>DaysPassed</th>\n",
       "      <th>PrevAttempts</th>\n",
       "      <th>Outcome</th>\n",
       "      <th>CallStart</th>\n",
       "      <th>CallEnd</th>\n",
       "      <th>CarInsurance</th>\n",
       "    </tr>\n",
       "  </thead>\n",
       "  <tbody>\n",
       "    <tr>\n",
       "      <th>1742</th>\n",
       "      <td>1743</td>\n",
       "      <td>59</td>\n",
       "      <td>management</td>\n",
       "      <td>married</td>\n",
       "      <td>tertiary</td>\n",
       "      <td>0</td>\n",
       "      <td>98417</td>\n",
       "      <td>0</td>\n",
       "      <td>0</td>\n",
       "      <td>telephone</td>\n",
       "      <td>20</td>\n",
       "      <td>nov</td>\n",
       "      <td>5</td>\n",
       "      <td>-1</td>\n",
       "      <td>0</td>\n",
       "      <td>NaN</td>\n",
       "      <td>10:51:42</td>\n",
       "      <td>10:54:07</td>\n",
       "      <td>0</td>\n",
       "    </tr>\n",
       "  </tbody>\n",
       "</table>\n",
       "</div>"
      ],
      "text/plain": [
       "        Id  Age         Job  Marital Education  Default  Balance  HHInsurance  \\\n",
       "1742  1743   59  management  married  tertiary        0    98417            0   \n",
       "\n",
       "      CarLoan Communication  LastContactDay LastContactMonth  NoOfContacts  \\\n",
       "1742        0     telephone              20              nov             5   \n",
       "\n",
       "      DaysPassed  PrevAttempts Outcome CallStart   CallEnd  CarInsurance  \n",
       "1742          -1             0     NaN  10:51:42  10:54:07             0  "
      ]
     },
     "execution_count": 12,
     "metadata": {},
     "output_type": "execute_result"
    }
   ],
   "source": [
    "insurance_data[insurance_data['Balance']>60000]"
   ]
  },
  {
   "cell_type": "code",
   "execution_count": 13,
   "metadata": {},
   "outputs": [],
   "source": [
    "insurance_data.drop([1742],inplace=True)"
   ]
  },
  {
   "cell_type": "markdown",
   "metadata": {},
   "source": [
    "### Handling missing values"
   ]
  },
  {
   "cell_type": "code",
   "execution_count": 14,
   "metadata": {},
   "outputs": [],
   "source": [
    "merge_data = pd.concat([insurance_data,insurance_test],keys=('train','test'))"
   ]
  },
  {
   "cell_type": "code",
   "execution_count": 15,
   "metadata": {},
   "outputs": [
    {
     "data": {
      "text/html": [
       "<div>\n",
       "<style scoped>\n",
       "    .dataframe tbody tr th:only-of-type {\n",
       "        vertical-align: middle;\n",
       "    }\n",
       "\n",
       "    .dataframe tbody tr th {\n",
       "        vertical-align: top;\n",
       "    }\n",
       "\n",
       "    .dataframe thead th {\n",
       "        text-align: right;\n",
       "    }\n",
       "</style>\n",
       "<table border=\"1\" class=\"dataframe\">\n",
       "  <thead>\n",
       "    <tr style=\"text-align: right;\">\n",
       "      <th></th>\n",
       "      <th></th>\n",
       "      <th>Id</th>\n",
       "      <th>Age</th>\n",
       "      <th>Job</th>\n",
       "      <th>Marital</th>\n",
       "      <th>Education</th>\n",
       "      <th>Default</th>\n",
       "      <th>Balance</th>\n",
       "      <th>HHInsurance</th>\n",
       "      <th>CarLoan</th>\n",
       "      <th>Communication</th>\n",
       "      <th>LastContactDay</th>\n",
       "      <th>LastContactMonth</th>\n",
       "      <th>NoOfContacts</th>\n",
       "      <th>DaysPassed</th>\n",
       "      <th>PrevAttempts</th>\n",
       "      <th>Outcome</th>\n",
       "      <th>CallStart</th>\n",
       "      <th>CallEnd</th>\n",
       "      <th>CarInsurance</th>\n",
       "    </tr>\n",
       "  </thead>\n",
       "  <tbody>\n",
       "    <tr>\n",
       "      <th rowspan=\"5\" valign=\"top\">train</th>\n",
       "      <th>0</th>\n",
       "      <td>1</td>\n",
       "      <td>32</td>\n",
       "      <td>management</td>\n",
       "      <td>single</td>\n",
       "      <td>tertiary</td>\n",
       "      <td>0</td>\n",
       "      <td>1218</td>\n",
       "      <td>1</td>\n",
       "      <td>0</td>\n",
       "      <td>telephone</td>\n",
       "      <td>28</td>\n",
       "      <td>jan</td>\n",
       "      <td>2</td>\n",
       "      <td>-1</td>\n",
       "      <td>0</td>\n",
       "      <td>NaN</td>\n",
       "      <td>13:45:20</td>\n",
       "      <td>13:46:30</td>\n",
       "      <td>0.0</td>\n",
       "    </tr>\n",
       "    <tr>\n",
       "      <th>1</th>\n",
       "      <td>2</td>\n",
       "      <td>32</td>\n",
       "      <td>blue-collar</td>\n",
       "      <td>married</td>\n",
       "      <td>primary</td>\n",
       "      <td>0</td>\n",
       "      <td>1156</td>\n",
       "      <td>1</td>\n",
       "      <td>0</td>\n",
       "      <td>NaN</td>\n",
       "      <td>26</td>\n",
       "      <td>may</td>\n",
       "      <td>5</td>\n",
       "      <td>-1</td>\n",
       "      <td>0</td>\n",
       "      <td>NaN</td>\n",
       "      <td>14:49:03</td>\n",
       "      <td>14:52:08</td>\n",
       "      <td>0.0</td>\n",
       "    </tr>\n",
       "    <tr>\n",
       "      <th>2</th>\n",
       "      <td>3</td>\n",
       "      <td>29</td>\n",
       "      <td>management</td>\n",
       "      <td>single</td>\n",
       "      <td>tertiary</td>\n",
       "      <td>0</td>\n",
       "      <td>637</td>\n",
       "      <td>1</td>\n",
       "      <td>0</td>\n",
       "      <td>cellular</td>\n",
       "      <td>3</td>\n",
       "      <td>jun</td>\n",
       "      <td>1</td>\n",
       "      <td>119</td>\n",
       "      <td>1</td>\n",
       "      <td>failure</td>\n",
       "      <td>16:30:24</td>\n",
       "      <td>16:36:04</td>\n",
       "      <td>1.0</td>\n",
       "    </tr>\n",
       "    <tr>\n",
       "      <th>3</th>\n",
       "      <td>4</td>\n",
       "      <td>25</td>\n",
       "      <td>student</td>\n",
       "      <td>single</td>\n",
       "      <td>primary</td>\n",
       "      <td>0</td>\n",
       "      <td>373</td>\n",
       "      <td>1</td>\n",
       "      <td>0</td>\n",
       "      <td>cellular</td>\n",
       "      <td>11</td>\n",
       "      <td>may</td>\n",
       "      <td>2</td>\n",
       "      <td>-1</td>\n",
       "      <td>0</td>\n",
       "      <td>NaN</td>\n",
       "      <td>12:06:43</td>\n",
       "      <td>12:20:22</td>\n",
       "      <td>1.0</td>\n",
       "    </tr>\n",
       "    <tr>\n",
       "      <th>4</th>\n",
       "      <td>5</td>\n",
       "      <td>30</td>\n",
       "      <td>management</td>\n",
       "      <td>married</td>\n",
       "      <td>tertiary</td>\n",
       "      <td>0</td>\n",
       "      <td>2694</td>\n",
       "      <td>0</td>\n",
       "      <td>0</td>\n",
       "      <td>cellular</td>\n",
       "      <td>3</td>\n",
       "      <td>jun</td>\n",
       "      <td>1</td>\n",
       "      <td>-1</td>\n",
       "      <td>0</td>\n",
       "      <td>NaN</td>\n",
       "      <td>14:35:44</td>\n",
       "      <td>14:38:56</td>\n",
       "      <td>0.0</td>\n",
       "    </tr>\n",
       "    <tr>\n",
       "      <th>...</th>\n",
       "      <th>...</th>\n",
       "      <td>...</td>\n",
       "      <td>...</td>\n",
       "      <td>...</td>\n",
       "      <td>...</td>\n",
       "      <td>...</td>\n",
       "      <td>...</td>\n",
       "      <td>...</td>\n",
       "      <td>...</td>\n",
       "      <td>...</td>\n",
       "      <td>...</td>\n",
       "      <td>...</td>\n",
       "      <td>...</td>\n",
       "      <td>...</td>\n",
       "      <td>...</td>\n",
       "      <td>...</td>\n",
       "      <td>...</td>\n",
       "      <td>...</td>\n",
       "      <td>...</td>\n",
       "      <td>...</td>\n",
       "    </tr>\n",
       "    <tr>\n",
       "      <th rowspan=\"5\" valign=\"top\">test</th>\n",
       "      <th>995</th>\n",
       "      <td>4996</td>\n",
       "      <td>31</td>\n",
       "      <td>admin.</td>\n",
       "      <td>single</td>\n",
       "      <td>secondary</td>\n",
       "      <td>0</td>\n",
       "      <td>131</td>\n",
       "      <td>1</td>\n",
       "      <td>0</td>\n",
       "      <td>cellular</td>\n",
       "      <td>15</td>\n",
       "      <td>jun</td>\n",
       "      <td>1</td>\n",
       "      <td>-1</td>\n",
       "      <td>0</td>\n",
       "      <td>NaN</td>\n",
       "      <td>13:54:24</td>\n",
       "      <td>13:56:55</td>\n",
       "      <td>NaN</td>\n",
       "    </tr>\n",
       "    <tr>\n",
       "      <th>996</th>\n",
       "      <td>4997</td>\n",
       "      <td>52</td>\n",
       "      <td>management</td>\n",
       "      <td>married</td>\n",
       "      <td>tertiary</td>\n",
       "      <td>0</td>\n",
       "      <td>2635</td>\n",
       "      <td>0</td>\n",
       "      <td>0</td>\n",
       "      <td>cellular</td>\n",
       "      <td>6</td>\n",
       "      <td>sep</td>\n",
       "      <td>1</td>\n",
       "      <td>108</td>\n",
       "      <td>8</td>\n",
       "      <td>success</td>\n",
       "      <td>13:13:38</td>\n",
       "      <td>13:18:51</td>\n",
       "      <td>NaN</td>\n",
       "    </tr>\n",
       "    <tr>\n",
       "      <th>997</th>\n",
       "      <td>4998</td>\n",
       "      <td>46</td>\n",
       "      <td>technician</td>\n",
       "      <td>married</td>\n",
       "      <td>tertiary</td>\n",
       "      <td>0</td>\n",
       "      <td>3009</td>\n",
       "      <td>0</td>\n",
       "      <td>0</td>\n",
       "      <td>cellular</td>\n",
       "      <td>4</td>\n",
       "      <td>aug</td>\n",
       "      <td>2</td>\n",
       "      <td>-1</td>\n",
       "      <td>0</td>\n",
       "      <td>NaN</td>\n",
       "      <td>10:23:35</td>\n",
       "      <td>10:24:33</td>\n",
       "      <td>NaN</td>\n",
       "    </tr>\n",
       "    <tr>\n",
       "      <th>998</th>\n",
       "      <td>4999</td>\n",
       "      <td>60</td>\n",
       "      <td>retired</td>\n",
       "      <td>married</td>\n",
       "      <td>secondary</td>\n",
       "      <td>0</td>\n",
       "      <td>7038</td>\n",
       "      <td>0</td>\n",
       "      <td>0</td>\n",
       "      <td>telephone</td>\n",
       "      <td>7</td>\n",
       "      <td>oct</td>\n",
       "      <td>4</td>\n",
       "      <td>-1</td>\n",
       "      <td>0</td>\n",
       "      <td>NaN</td>\n",
       "      <td>17:01:49</td>\n",
       "      <td>17:04:07</td>\n",
       "      <td>NaN</td>\n",
       "    </tr>\n",
       "    <tr>\n",
       "      <th>999</th>\n",
       "      <td>5000</td>\n",
       "      <td>28</td>\n",
       "      <td>management</td>\n",
       "      <td>single</td>\n",
       "      <td>tertiary</td>\n",
       "      <td>0</td>\n",
       "      <td>957</td>\n",
       "      <td>0</td>\n",
       "      <td>0</td>\n",
       "      <td>cellular</td>\n",
       "      <td>25</td>\n",
       "      <td>may</td>\n",
       "      <td>2</td>\n",
       "      <td>-1</td>\n",
       "      <td>0</td>\n",
       "      <td>NaN</td>\n",
       "      <td>12:15:19</td>\n",
       "      <td>12:30:34</td>\n",
       "      <td>NaN</td>\n",
       "    </tr>\n",
       "  </tbody>\n",
       "</table>\n",
       "<p>4999 rows × 19 columns</p>\n",
       "</div>"
      ],
      "text/plain": [
       "             Id  Age          Job  Marital  Education  Default  Balance  \\\n",
       "train 0       1   32   management   single   tertiary        0     1218   \n",
       "      1       2   32  blue-collar  married    primary        0     1156   \n",
       "      2       3   29   management   single   tertiary        0      637   \n",
       "      3       4   25      student   single    primary        0      373   \n",
       "      4       5   30   management  married   tertiary        0     2694   \n",
       "...         ...  ...          ...      ...        ...      ...      ...   \n",
       "test  995  4996   31       admin.   single  secondary        0      131   \n",
       "      996  4997   52   management  married   tertiary        0     2635   \n",
       "      997  4998   46   technician  married   tertiary        0     3009   \n",
       "      998  4999   60      retired  married  secondary        0     7038   \n",
       "      999  5000   28   management   single   tertiary        0      957   \n",
       "\n",
       "           HHInsurance  CarLoan Communication  LastContactDay  \\\n",
       "train 0              1        0     telephone              28   \n",
       "      1              1        0           NaN              26   \n",
       "      2              1        0      cellular               3   \n",
       "      3              1        0      cellular              11   \n",
       "      4              0        0      cellular               3   \n",
       "...                ...      ...           ...             ...   \n",
       "test  995            1        0      cellular              15   \n",
       "      996            0        0      cellular               6   \n",
       "      997            0        0      cellular               4   \n",
       "      998            0        0     telephone               7   \n",
       "      999            0        0      cellular              25   \n",
       "\n",
       "          LastContactMonth  NoOfContacts  DaysPassed  PrevAttempts  Outcome  \\\n",
       "train 0                jan             2          -1             0      NaN   \n",
       "      1                may             5          -1             0      NaN   \n",
       "      2                jun             1         119             1  failure   \n",
       "      3                may             2          -1             0      NaN   \n",
       "      4                jun             1          -1             0      NaN   \n",
       "...                    ...           ...         ...           ...      ...   \n",
       "test  995              jun             1          -1             0      NaN   \n",
       "      996              sep             1         108             8  success   \n",
       "      997              aug             2          -1             0      NaN   \n",
       "      998              oct             4          -1             0      NaN   \n",
       "      999              may             2          -1             0      NaN   \n",
       "\n",
       "          CallStart   CallEnd  CarInsurance  \n",
       "train 0    13:45:20  13:46:30           0.0  \n",
       "      1    14:49:03  14:52:08           0.0  \n",
       "      2    16:30:24  16:36:04           1.0  \n",
       "      3    12:06:43  12:20:22           1.0  \n",
       "      4    14:35:44  14:38:56           0.0  \n",
       "...             ...       ...           ...  \n",
       "test  995  13:54:24  13:56:55           NaN  \n",
       "      996  13:13:38  13:18:51           NaN  \n",
       "      997  10:23:35  10:24:33           NaN  \n",
       "      998  17:01:49  17:04:07           NaN  \n",
       "      999  12:15:19  12:30:34           NaN  \n",
       "\n",
       "[4999 rows x 19 columns]"
      ]
     },
     "execution_count": 15,
     "metadata": {},
     "output_type": "execute_result"
    }
   ],
   "source": [
    "merge_data"
   ]
  },
  {
   "cell_type": "code",
   "execution_count": 16,
   "metadata": {},
   "outputs": [],
   "source": [
    "merge_data.drop(['Id'],axis=1,inplace=True)"
   ]
  },
  {
   "cell_type": "code",
   "execution_count": 17,
   "metadata": {},
   "outputs": [],
   "source": [
    "merge_data.drop(['CallStart','CallEnd'],axis=1,inplace=True)"
   ]
  },
  {
   "cell_type": "code",
   "execution_count": 18,
   "metadata": {},
   "outputs": [
    {
     "data": {
      "text/plain": [
       "Age                    0\n",
       "Job                   24\n",
       "Marital                0\n",
       "Education            216\n",
       "Default                0\n",
       "Balance                0\n",
       "HHInsurance            0\n",
       "CarLoan                0\n",
       "Communication       1123\n",
       "LastContactDay         0\n",
       "LastContactMonth       0\n",
       "NoOfContacts           0\n",
       "DaysPassed             0\n",
       "PrevAttempts           0\n",
       "Outcome             3798\n",
       "CarInsurance        1000\n",
       "dtype: int64"
      ]
     },
     "execution_count": 18,
     "metadata": {},
     "output_type": "execute_result"
    }
   ],
   "source": [
    "merge_data.isnull().sum()"
   ]
  },
  {
   "cell_type": "code",
   "execution_count": 19,
   "metadata": {},
   "outputs": [],
   "source": [
    "merge_data_df = merge_data.copy()"
   ]
  },
  {
   "cell_type": "code",
   "execution_count": 20,
   "metadata": {},
   "outputs": [
    {
     "data": {
      "text/html": [
       "<div>\n",
       "<style scoped>\n",
       "    .dataframe tbody tr th:only-of-type {\n",
       "        vertical-align: middle;\n",
       "    }\n",
       "\n",
       "    .dataframe tbody tr th {\n",
       "        vertical-align: top;\n",
       "    }\n",
       "\n",
       "    .dataframe thead th {\n",
       "        text-align: right;\n",
       "    }\n",
       "</style>\n",
       "<table border=\"1\" class=\"dataframe\">\n",
       "  <thead>\n",
       "    <tr style=\"text-align: right;\">\n",
       "      <th></th>\n",
       "      <th>Age</th>\n",
       "      <th>Default</th>\n",
       "      <th>Balance</th>\n",
       "      <th>HHInsurance</th>\n",
       "      <th>CarLoan</th>\n",
       "      <th>LastContactDay</th>\n",
       "      <th>NoOfContacts</th>\n",
       "      <th>DaysPassed</th>\n",
       "      <th>PrevAttempts</th>\n",
       "      <th>CarInsurance</th>\n",
       "    </tr>\n",
       "  </thead>\n",
       "  <tbody>\n",
       "    <tr>\n",
       "      <th>count</th>\n",
       "      <td>3798.000000</td>\n",
       "      <td>3798.000000</td>\n",
       "      <td>3798.000000</td>\n",
       "      <td>3798.000000</td>\n",
       "      <td>3798.000000</td>\n",
       "      <td>3798.000000</td>\n",
       "      <td>3798.000000</td>\n",
       "      <td>3798.0</td>\n",
       "      <td>3798.0</td>\n",
       "      <td>3041.000000</td>\n",
       "    </tr>\n",
       "    <tr>\n",
       "      <th>mean</th>\n",
       "      <td>41.172722</td>\n",
       "      <td>0.016588</td>\n",
       "      <td>1414.180358</td>\n",
       "      <td>0.496051</td>\n",
       "      <td>0.140864</td>\n",
       "      <td>16.059768</td>\n",
       "      <td>2.798315</td>\n",
       "      <td>-1.0</td>\n",
       "      <td>0.0</td>\n",
       "      <td>0.343637</td>\n",
       "    </tr>\n",
       "    <tr>\n",
       "      <th>std</th>\n",
       "      <td>11.275358</td>\n",
       "      <td>0.127737</td>\n",
       "      <td>3032.231216</td>\n",
       "      <td>0.500050</td>\n",
       "      <td>0.347927</td>\n",
       "      <td>8.442643</td>\n",
       "      <td>3.292817</td>\n",
       "      <td>0.0</td>\n",
       "      <td>0.0</td>\n",
       "      <td>0.475000</td>\n",
       "    </tr>\n",
       "    <tr>\n",
       "      <th>min</th>\n",
       "      <td>18.000000</td>\n",
       "      <td>0.000000</td>\n",
       "      <td>-3058.000000</td>\n",
       "      <td>0.000000</td>\n",
       "      <td>0.000000</td>\n",
       "      <td>1.000000</td>\n",
       "      <td>1.000000</td>\n",
       "      <td>-1.0</td>\n",
       "      <td>0.0</td>\n",
       "      <td>0.000000</td>\n",
       "    </tr>\n",
       "    <tr>\n",
       "      <th>25%</th>\n",
       "      <td>32.000000</td>\n",
       "      <td>0.000000</td>\n",
       "      <td>83.000000</td>\n",
       "      <td>0.000000</td>\n",
       "      <td>0.000000</td>\n",
       "      <td>8.000000</td>\n",
       "      <td>1.000000</td>\n",
       "      <td>-1.0</td>\n",
       "      <td>0.0</td>\n",
       "      <td>0.000000</td>\n",
       "    </tr>\n",
       "    <tr>\n",
       "      <th>50%</th>\n",
       "      <td>39.000000</td>\n",
       "      <td>0.000000</td>\n",
       "      <td>482.500000</td>\n",
       "      <td>0.000000</td>\n",
       "      <td>0.000000</td>\n",
       "      <td>16.500000</td>\n",
       "      <td>2.000000</td>\n",
       "      <td>-1.0</td>\n",
       "      <td>0.0</td>\n",
       "      <td>0.000000</td>\n",
       "    </tr>\n",
       "    <tr>\n",
       "      <th>75%</th>\n",
       "      <td>49.000000</td>\n",
       "      <td>0.000000</td>\n",
       "      <td>1505.500000</td>\n",
       "      <td>1.000000</td>\n",
       "      <td>0.000000</td>\n",
       "      <td>22.000000</td>\n",
       "      <td>3.000000</td>\n",
       "      <td>-1.0</td>\n",
       "      <td>0.0</td>\n",
       "      <td>1.000000</td>\n",
       "    </tr>\n",
       "    <tr>\n",
       "      <th>max</th>\n",
       "      <td>95.000000</td>\n",
       "      <td>1.000000</td>\n",
       "      <td>45248.000000</td>\n",
       "      <td>1.000000</td>\n",
       "      <td>1.000000</td>\n",
       "      <td>31.000000</td>\n",
       "      <td>43.000000</td>\n",
       "      <td>-1.0</td>\n",
       "      <td>0.0</td>\n",
       "      <td>1.000000</td>\n",
       "    </tr>\n",
       "  </tbody>\n",
       "</table>\n",
       "</div>"
      ],
      "text/plain": [
       "               Age      Default       Balance  HHInsurance      CarLoan  \\\n",
       "count  3798.000000  3798.000000   3798.000000  3798.000000  3798.000000   \n",
       "mean     41.172722     0.016588   1414.180358     0.496051     0.140864   \n",
       "std      11.275358     0.127737   3032.231216     0.500050     0.347927   \n",
       "min      18.000000     0.000000  -3058.000000     0.000000     0.000000   \n",
       "25%      32.000000     0.000000     83.000000     0.000000     0.000000   \n",
       "50%      39.000000     0.000000    482.500000     0.000000     0.000000   \n",
       "75%      49.000000     0.000000   1505.500000     1.000000     0.000000   \n",
       "max      95.000000     1.000000  45248.000000     1.000000     1.000000   \n",
       "\n",
       "       LastContactDay  NoOfContacts  DaysPassed  PrevAttempts  CarInsurance  \n",
       "count     3798.000000   3798.000000      3798.0        3798.0   3041.000000  \n",
       "mean        16.059768      2.798315        -1.0           0.0      0.343637  \n",
       "std          8.442643      3.292817         0.0           0.0      0.475000  \n",
       "min          1.000000      1.000000        -1.0           0.0      0.000000  \n",
       "25%          8.000000      1.000000        -1.0           0.0      0.000000  \n",
       "50%         16.500000      2.000000        -1.0           0.0      0.000000  \n",
       "75%         22.000000      3.000000        -1.0           0.0      1.000000  \n",
       "max         31.000000     43.000000        -1.0           0.0      1.000000  "
      ]
     },
     "execution_count": 20,
     "metadata": {},
     "output_type": "execute_result"
    }
   ],
   "source": [
    "merge_data_df[merge_data_df['Outcome'].isnull()].describe()"
   ]
  },
  {
   "cell_type": "code",
   "execution_count": 21,
   "metadata": {},
   "outputs": [],
   "source": [
    "merge_data_df['Outcome'].fillna('NoPrevContact',inplace=True)"
   ]
  },
  {
   "cell_type": "code",
   "execution_count": 22,
   "metadata": {},
   "outputs": [
    {
     "data": {
      "text/plain": [
       "0"
      ]
     },
     "execution_count": 22,
     "metadata": {},
     "output_type": "execute_result"
    }
   ],
   "source": [
    "merge_data_df['Outcome'].isnull().sum()"
   ]
  },
  {
   "cell_type": "code",
   "execution_count": 23,
   "metadata": {},
   "outputs": [
    {
     "data": {
      "text/html": [
       "<div>\n",
       "<style scoped>\n",
       "    .dataframe tbody tr th:only-of-type {\n",
       "        vertical-align: middle;\n",
       "    }\n",
       "\n",
       "    .dataframe tbody tr th {\n",
       "        vertical-align: top;\n",
       "    }\n",
       "\n",
       "    .dataframe thead th {\n",
       "        text-align: right;\n",
       "    }\n",
       "</style>\n",
       "<table border=\"1\" class=\"dataframe\">\n",
       "  <thead>\n",
       "    <tr style=\"text-align: right;\">\n",
       "      <th></th>\n",
       "      <th>Age</th>\n",
       "      <th>Default</th>\n",
       "      <th>Balance</th>\n",
       "      <th>HHInsurance</th>\n",
       "      <th>CarLoan</th>\n",
       "      <th>LastContactDay</th>\n",
       "      <th>NoOfContacts</th>\n",
       "      <th>DaysPassed</th>\n",
       "      <th>PrevAttempts</th>\n",
       "      <th>CarInsurance</th>\n",
       "    </tr>\n",
       "  </thead>\n",
       "  <tbody>\n",
       "    <tr>\n",
       "      <th>count</th>\n",
       "      <td>1123.000000</td>\n",
       "      <td>1123.000000</td>\n",
       "      <td>1123.000000</td>\n",
       "      <td>1123.000000</td>\n",
       "      <td>1123.000000</td>\n",
       "      <td>1123.000000</td>\n",
       "      <td>1123.000000</td>\n",
       "      <td>1123.000000</td>\n",
       "      <td>1123.000000</td>\n",
       "      <td>902.000000</td>\n",
       "    </tr>\n",
       "    <tr>\n",
       "      <th>mean</th>\n",
       "      <td>40.501336</td>\n",
       "      <td>0.018700</td>\n",
       "      <td>1165.617097</td>\n",
       "      <td>0.706144</td>\n",
       "      <td>0.143366</td>\n",
       "      <td>15.596616</td>\n",
       "      <td>2.688335</td>\n",
       "      <td>1.700801</td>\n",
       "      <td>0.020481</td>\n",
       "      <td>0.186253</td>\n",
       "    </tr>\n",
       "    <tr>\n",
       "      <th>std</th>\n",
       "      <td>9.502357</td>\n",
       "      <td>0.135523</td>\n",
       "      <td>2634.372948</td>\n",
       "      <td>0.455730</td>\n",
       "      <td>0.350602</td>\n",
       "      <td>8.496422</td>\n",
       "      <td>3.022335</td>\n",
       "      <td>39.179002</td>\n",
       "      <td>0.385255</td>\n",
       "      <td>0.389526</td>\n",
       "    </tr>\n",
       "    <tr>\n",
       "      <th>min</th>\n",
       "      <td>20.000000</td>\n",
       "      <td>0.000000</td>\n",
       "      <td>-1547.000000</td>\n",
       "      <td>0.000000</td>\n",
       "      <td>0.000000</td>\n",
       "      <td>1.000000</td>\n",
       "      <td>1.000000</td>\n",
       "      <td>-1.000000</td>\n",
       "      <td>0.000000</td>\n",
       "      <td>0.000000</td>\n",
       "    </tr>\n",
       "    <tr>\n",
       "      <th>25%</th>\n",
       "      <td>33.000000</td>\n",
       "      <td>0.000000</td>\n",
       "      <td>66.000000</td>\n",
       "      <td>0.000000</td>\n",
       "      <td>0.000000</td>\n",
       "      <td>8.000000</td>\n",
       "      <td>1.000000</td>\n",
       "      <td>-1.000000</td>\n",
       "      <td>0.000000</td>\n",
       "      <td>0.000000</td>\n",
       "    </tr>\n",
       "    <tr>\n",
       "      <th>50%</th>\n",
       "      <td>39.000000</td>\n",
       "      <td>0.000000</td>\n",
       "      <td>419.000000</td>\n",
       "      <td>1.000000</td>\n",
       "      <td>0.000000</td>\n",
       "      <td>16.000000</td>\n",
       "      <td>2.000000</td>\n",
       "      <td>-1.000000</td>\n",
       "      <td>0.000000</td>\n",
       "      <td>0.000000</td>\n",
       "    </tr>\n",
       "    <tr>\n",
       "      <th>75%</th>\n",
       "      <td>48.000000</td>\n",
       "      <td>0.000000</td>\n",
       "      <td>1219.000000</td>\n",
       "      <td>1.000000</td>\n",
       "      <td>0.000000</td>\n",
       "      <td>23.000000</td>\n",
       "      <td>3.000000</td>\n",
       "      <td>-1.000000</td>\n",
       "      <td>0.000000</td>\n",
       "      <td>0.000000</td>\n",
       "    </tr>\n",
       "    <tr>\n",
       "      <th>max</th>\n",
       "      <td>61.000000</td>\n",
       "      <td>1.000000</td>\n",
       "      <td>45248.000000</td>\n",
       "      <td>1.000000</td>\n",
       "      <td>1.000000</td>\n",
       "      <td>31.000000</td>\n",
       "      <td>41.000000</td>\n",
       "      <td>779.000000</td>\n",
       "      <td>12.000000</td>\n",
       "      <td>1.000000</td>\n",
       "    </tr>\n",
       "  </tbody>\n",
       "</table>\n",
       "</div>"
      ],
      "text/plain": [
       "               Age      Default       Balance  HHInsurance      CarLoan  \\\n",
       "count  1123.000000  1123.000000   1123.000000  1123.000000  1123.000000   \n",
       "mean     40.501336     0.018700   1165.617097     0.706144     0.143366   \n",
       "std       9.502357     0.135523   2634.372948     0.455730     0.350602   \n",
       "min      20.000000     0.000000  -1547.000000     0.000000     0.000000   \n",
       "25%      33.000000     0.000000     66.000000     0.000000     0.000000   \n",
       "50%      39.000000     0.000000    419.000000     1.000000     0.000000   \n",
       "75%      48.000000     0.000000   1219.000000     1.000000     0.000000   \n",
       "max      61.000000     1.000000  45248.000000     1.000000     1.000000   \n",
       "\n",
       "       LastContactDay  NoOfContacts   DaysPassed  PrevAttempts  CarInsurance  \n",
       "count     1123.000000   1123.000000  1123.000000   1123.000000    902.000000  \n",
       "mean        15.596616      2.688335     1.700801      0.020481      0.186253  \n",
       "std          8.496422      3.022335    39.179002      0.385255      0.389526  \n",
       "min          1.000000      1.000000    -1.000000      0.000000      0.000000  \n",
       "25%          8.000000      1.000000    -1.000000      0.000000      0.000000  \n",
       "50%         16.000000      2.000000    -1.000000      0.000000      0.000000  \n",
       "75%         23.000000      3.000000    -1.000000      0.000000      0.000000  \n",
       "max         31.000000     41.000000   779.000000     12.000000      1.000000  "
      ]
     },
     "execution_count": 23,
     "metadata": {},
     "output_type": "execute_result"
    }
   ],
   "source": [
    "merge_data_df[merge_data_df['Communication'].isnull()].describe()"
   ]
  },
  {
   "cell_type": "code",
   "execution_count": 24,
   "metadata": {},
   "outputs": [
    {
     "data": {
      "text/plain": [
       "cellular     3529\n",
       "telephone     347\n",
       "Name: Communication, dtype: int64"
      ]
     },
     "execution_count": 24,
     "metadata": {},
     "output_type": "execute_result"
    }
   ],
   "source": [
    "merge_data_df['Communication'].value_counts()"
   ]
  },
  {
   "cell_type": "code",
   "execution_count": 25,
   "metadata": {},
   "outputs": [],
   "source": [
    "merge_data_df['Communication'].fillna('cellular',inplace=True)"
   ]
  },
  {
   "cell_type": "code",
   "execution_count": 26,
   "metadata": {},
   "outputs": [
    {
     "data": {
      "text/plain": [
       "0"
      ]
     },
     "execution_count": 26,
     "metadata": {},
     "output_type": "execute_result"
    }
   ],
   "source": [
    "merge_data_df['Communication'].isnull().sum()"
   ]
  },
  {
   "cell_type": "code",
   "execution_count": 27,
   "metadata": {},
   "outputs": [
    {
     "data": {
      "text/html": [
       "<div>\n",
       "<style scoped>\n",
       "    .dataframe tbody tr th:only-of-type {\n",
       "        vertical-align: middle;\n",
       "    }\n",
       "\n",
       "    .dataframe tbody tr th {\n",
       "        vertical-align: top;\n",
       "    }\n",
       "\n",
       "    .dataframe thead th {\n",
       "        text-align: right;\n",
       "    }\n",
       "</style>\n",
       "<table border=\"1\" class=\"dataframe\">\n",
       "  <thead>\n",
       "    <tr style=\"text-align: right;\">\n",
       "      <th></th>\n",
       "      <th></th>\n",
       "      <th>Age</th>\n",
       "      <th>Job</th>\n",
       "      <th>Marital</th>\n",
       "      <th>Education</th>\n",
       "      <th>Default</th>\n",
       "      <th>Balance</th>\n",
       "      <th>HHInsurance</th>\n",
       "      <th>CarLoan</th>\n",
       "      <th>Communication</th>\n",
       "      <th>LastContactDay</th>\n",
       "      <th>LastContactMonth</th>\n",
       "      <th>NoOfContacts</th>\n",
       "      <th>DaysPassed</th>\n",
       "      <th>PrevAttempts</th>\n",
       "      <th>Outcome</th>\n",
       "      <th>CarInsurance</th>\n",
       "    </tr>\n",
       "  </thead>\n",
       "  <tbody>\n",
       "    <tr>\n",
       "      <th rowspan=\"5\" valign=\"top\">train</th>\n",
       "      <th>14</th>\n",
       "      <td>25</td>\n",
       "      <td>services</td>\n",
       "      <td>single</td>\n",
       "      <td>NaN</td>\n",
       "      <td>0</td>\n",
       "      <td>2022</td>\n",
       "      <td>0</td>\n",
       "      <td>0</td>\n",
       "      <td>cellular</td>\n",
       "      <td>29</td>\n",
       "      <td>jul</td>\n",
       "      <td>8</td>\n",
       "      <td>97</td>\n",
       "      <td>12</td>\n",
       "      <td>other</td>\n",
       "      <td>1.0</td>\n",
       "    </tr>\n",
       "    <tr>\n",
       "      <th>27</th>\n",
       "      <td>45</td>\n",
       "      <td>NaN</td>\n",
       "      <td>divorced</td>\n",
       "      <td>NaN</td>\n",
       "      <td>0</td>\n",
       "      <td>0</td>\n",
       "      <td>0</td>\n",
       "      <td>0</td>\n",
       "      <td>cellular</td>\n",
       "      <td>21</td>\n",
       "      <td>apr</td>\n",
       "      <td>3</td>\n",
       "      <td>-1</td>\n",
       "      <td>0</td>\n",
       "      <td>NoPrevContact</td>\n",
       "      <td>1.0</td>\n",
       "    </tr>\n",
       "    <tr>\n",
       "      <th>50</th>\n",
       "      <td>54</td>\n",
       "      <td>services</td>\n",
       "      <td>divorced</td>\n",
       "      <td>NaN</td>\n",
       "      <td>0</td>\n",
       "      <td>0</td>\n",
       "      <td>1</td>\n",
       "      <td>0</td>\n",
       "      <td>cellular</td>\n",
       "      <td>16</td>\n",
       "      <td>apr</td>\n",
       "      <td>1</td>\n",
       "      <td>-1</td>\n",
       "      <td>0</td>\n",
       "      <td>NoPrevContact</td>\n",
       "      <td>0.0</td>\n",
       "    </tr>\n",
       "    <tr>\n",
       "      <th>53</th>\n",
       "      <td>78</td>\n",
       "      <td>retired</td>\n",
       "      <td>married</td>\n",
       "      <td>NaN</td>\n",
       "      <td>0</td>\n",
       "      <td>3208</td>\n",
       "      <td>0</td>\n",
       "      <td>0</td>\n",
       "      <td>telephone</td>\n",
       "      <td>20</td>\n",
       "      <td>may</td>\n",
       "      <td>3</td>\n",
       "      <td>-1</td>\n",
       "      <td>0</td>\n",
       "      <td>NoPrevContact</td>\n",
       "      <td>1.0</td>\n",
       "    </tr>\n",
       "    <tr>\n",
       "      <th>58</th>\n",
       "      <td>34</td>\n",
       "      <td>management</td>\n",
       "      <td>single</td>\n",
       "      <td>NaN</td>\n",
       "      <td>0</td>\n",
       "      <td>6013</td>\n",
       "      <td>1</td>\n",
       "      <td>0</td>\n",
       "      <td>cellular</td>\n",
       "      <td>18</td>\n",
       "      <td>may</td>\n",
       "      <td>1</td>\n",
       "      <td>-1</td>\n",
       "      <td>0</td>\n",
       "      <td>NoPrevContact</td>\n",
       "      <td>1.0</td>\n",
       "    </tr>\n",
       "    <tr>\n",
       "      <th>...</th>\n",
       "      <th>...</th>\n",
       "      <td>...</td>\n",
       "      <td>...</td>\n",
       "      <td>...</td>\n",
       "      <td>...</td>\n",
       "      <td>...</td>\n",
       "      <td>...</td>\n",
       "      <td>...</td>\n",
       "      <td>...</td>\n",
       "      <td>...</td>\n",
       "      <td>...</td>\n",
       "      <td>...</td>\n",
       "      <td>...</td>\n",
       "      <td>...</td>\n",
       "      <td>...</td>\n",
       "      <td>...</td>\n",
       "      <td>...</td>\n",
       "    </tr>\n",
       "    <tr>\n",
       "      <th rowspan=\"5\" valign=\"top\">test</th>\n",
       "      <th>855</th>\n",
       "      <td>22</td>\n",
       "      <td>student</td>\n",
       "      <td>single</td>\n",
       "      <td>NaN</td>\n",
       "      <td>0</td>\n",
       "      <td>3317</td>\n",
       "      <td>0</td>\n",
       "      <td>0</td>\n",
       "      <td>cellular</td>\n",
       "      <td>10</td>\n",
       "      <td>aug</td>\n",
       "      <td>1</td>\n",
       "      <td>-1</td>\n",
       "      <td>0</td>\n",
       "      <td>NoPrevContact</td>\n",
       "      <td>NaN</td>\n",
       "    </tr>\n",
       "    <tr>\n",
       "      <th>867</th>\n",
       "      <td>77</td>\n",
       "      <td>management</td>\n",
       "      <td>married</td>\n",
       "      <td>NaN</td>\n",
       "      <td>0</td>\n",
       "      <td>1780</td>\n",
       "      <td>1</td>\n",
       "      <td>0</td>\n",
       "      <td>cellular</td>\n",
       "      <td>23</td>\n",
       "      <td>oct</td>\n",
       "      <td>2</td>\n",
       "      <td>183</td>\n",
       "      <td>3</td>\n",
       "      <td>success</td>\n",
       "      <td>NaN</td>\n",
       "    </tr>\n",
       "    <tr>\n",
       "      <th>908</th>\n",
       "      <td>50</td>\n",
       "      <td>blue-collar</td>\n",
       "      <td>married</td>\n",
       "      <td>NaN</td>\n",
       "      <td>0</td>\n",
       "      <td>1537</td>\n",
       "      <td>0</td>\n",
       "      <td>0</td>\n",
       "      <td>cellular</td>\n",
       "      <td>17</td>\n",
       "      <td>jun</td>\n",
       "      <td>6</td>\n",
       "      <td>-1</td>\n",
       "      <td>0</td>\n",
       "      <td>NoPrevContact</td>\n",
       "      <td>NaN</td>\n",
       "    </tr>\n",
       "    <tr>\n",
       "      <th>972</th>\n",
       "      <td>62</td>\n",
       "      <td>housemaid</td>\n",
       "      <td>married</td>\n",
       "      <td>NaN</td>\n",
       "      <td>0</td>\n",
       "      <td>2021</td>\n",
       "      <td>0</td>\n",
       "      <td>0</td>\n",
       "      <td>telephone</td>\n",
       "      <td>26</td>\n",
       "      <td>feb</td>\n",
       "      <td>1</td>\n",
       "      <td>-1</td>\n",
       "      <td>0</td>\n",
       "      <td>NoPrevContact</td>\n",
       "      <td>NaN</td>\n",
       "    </tr>\n",
       "    <tr>\n",
       "      <th>984</th>\n",
       "      <td>35</td>\n",
       "      <td>blue-collar</td>\n",
       "      <td>married</td>\n",
       "      <td>NaN</td>\n",
       "      <td>0</td>\n",
       "      <td>568</td>\n",
       "      <td>1</td>\n",
       "      <td>0</td>\n",
       "      <td>cellular</td>\n",
       "      <td>14</td>\n",
       "      <td>may</td>\n",
       "      <td>2</td>\n",
       "      <td>293</td>\n",
       "      <td>1</td>\n",
       "      <td>failure</td>\n",
       "      <td>NaN</td>\n",
       "    </tr>\n",
       "  </tbody>\n",
       "</table>\n",
       "<p>216 rows × 16 columns</p>\n",
       "</div>"
      ],
      "text/plain": [
       "           Age          Job   Marital Education  Default  Balance  \\\n",
       "train 14    25     services    single       NaN        0     2022   \n",
       "      27    45          NaN  divorced       NaN        0        0   \n",
       "      50    54     services  divorced       NaN        0        0   \n",
       "      53    78      retired   married       NaN        0     3208   \n",
       "      58    34   management    single       NaN        0     6013   \n",
       "...        ...          ...       ...       ...      ...      ...   \n",
       "test  855   22      student    single       NaN        0     3317   \n",
       "      867   77   management   married       NaN        0     1780   \n",
       "      908   50  blue-collar   married       NaN        0     1537   \n",
       "      972   62    housemaid   married       NaN        0     2021   \n",
       "      984   35  blue-collar   married       NaN        0      568   \n",
       "\n",
       "           HHInsurance  CarLoan Communication  LastContactDay  \\\n",
       "train 14             0        0      cellular              29   \n",
       "      27             0        0      cellular              21   \n",
       "      50             1        0      cellular              16   \n",
       "      53             0        0     telephone              20   \n",
       "      58             1        0      cellular              18   \n",
       "...                ...      ...           ...             ...   \n",
       "test  855            0        0      cellular              10   \n",
       "      867            1        0      cellular              23   \n",
       "      908            0        0      cellular              17   \n",
       "      972            0        0     telephone              26   \n",
       "      984            1        0      cellular              14   \n",
       "\n",
       "          LastContactMonth  NoOfContacts  DaysPassed  PrevAttempts  \\\n",
       "train 14               jul             8          97            12   \n",
       "      27               apr             3          -1             0   \n",
       "      50               apr             1          -1             0   \n",
       "      53               may             3          -1             0   \n",
       "      58               may             1          -1             0   \n",
       "...                    ...           ...         ...           ...   \n",
       "test  855              aug             1          -1             0   \n",
       "      867              oct             2         183             3   \n",
       "      908              jun             6          -1             0   \n",
       "      972              feb             1          -1             0   \n",
       "      984              may             2         293             1   \n",
       "\n",
       "                 Outcome  CarInsurance  \n",
       "train 14           other           1.0  \n",
       "      27   NoPrevContact           1.0  \n",
       "      50   NoPrevContact           0.0  \n",
       "      53   NoPrevContact           1.0  \n",
       "      58   NoPrevContact           1.0  \n",
       "...                  ...           ...  \n",
       "test  855  NoPrevContact           NaN  \n",
       "      867        success           NaN  \n",
       "      908  NoPrevContact           NaN  \n",
       "      972  NoPrevContact           NaN  \n",
       "      984        failure           NaN  \n",
       "\n",
       "[216 rows x 16 columns]"
      ]
     },
     "execution_count": 27,
     "metadata": {},
     "output_type": "execute_result"
    }
   ],
   "source": [
    "merge_data_df[merge_data_df['Education'].isnull()]"
   ]
  },
  {
   "cell_type": "code",
   "execution_count": 28,
   "metadata": {},
   "outputs": [
    {
     "data": {
      "text/plain": [
       "<matplotlib.axes._subplots.AxesSubplot at 0x8fb7670880>"
      ]
     },
     "execution_count": 28,
     "metadata": {},
     "output_type": "execute_result"
    },
    {
     "data": {
      "image/png": "[encoded data removed]",
      "text/plain": [
       "<Figure size 1152x288 with 1 Axes>"
      ]
     },
     "metadata": {
      "needs_background": "light"
     },
     "output_type": "display_data"
    }
   ],
   "source": [
    "plt.figure(figsize=(16,4))\n",
    "sns.countplot('Job',hue='Education',data=merge_data_df)"
   ]
  },
  {
   "cell_type": "code",
   "execution_count": 29,
   "metadata": {},
   "outputs": [],
   "source": [
    "edu_map = merge_data_df.groupby('Job')['Education'].describe()['top']"
   ]
  },
  {
   "cell_type": "code",
   "execution_count": 30,
   "metadata": {},
   "outputs": [
    {
     "data": {
      "text/plain": [
       "Job\n",
       "admin.           secondary\n",
       "blue-collar      secondary\n",
       "entrepreneur      tertiary\n",
       "housemaid          primary\n",
       "management        tertiary\n",
       "retired          secondary\n",
       "self-employed     tertiary\n",
       "services         secondary\n",
       "student          secondary\n",
       "technician       secondary\n",
       "unemployed       secondary\n",
       "Name: top, dtype: object"
      ]
     },
     "execution_count": 30,
     "metadata": {},
     "output_type": "execute_result"
    }
   ],
   "source": [
    "edu_map"
   ]
  },
  {
   "cell_type": "code",
   "execution_count": 31,
   "metadata": {},
   "outputs": [
    {
     "data": {
      "text/plain": [
       "216"
      ]
     },
     "execution_count": 31,
     "metadata": {},
     "output_type": "execute_result"
    }
   ],
   "source": [
    "merge_data_df['Education'].isnull().sum()"
   ]
  },
  {
   "cell_type": "code",
   "execution_count": 32,
   "metadata": {},
   "outputs": [
    {
     "data": {
      "text/plain": [
       "(4999, 16)"
      ]
     },
     "execution_count": 32,
     "metadata": {},
     "output_type": "execute_result"
    }
   ],
   "source": [
    "merge_data_df.shape"
   ]
  },
  {
   "cell_type": "code",
   "execution_count": 33,
   "metadata": {},
   "outputs": [
    {
     "data": {
      "text/plain": [
       "<matplotlib.axes._subplots.AxesSubplot at 0x8fb88f4df0>"
      ]
     },
     "execution_count": 33,
     "metadata": {},
     "output_type": "execute_result"
    },
    {
     "data": {
      "image/png": "[encoded data removed]",
      "text/plain": [
       "<Figure size 1152x288 with 1 Axes>"
      ]
     },
     "metadata": {
      "needs_background": "light"
     },
     "output_type": "display_data"
    }
   ],
   "source": [
    "plt.figure(figsize=(16,4))\n",
    "sns.countplot('Job',data=merge_data_df[merge_data_df['Education'].isnull()])"
   ]
  },
  {
   "cell_type": "code",
   "execution_count": 34,
   "metadata": {},
   "outputs": [],
   "source": [
    "job_types = merge_data_df['Job'].value_counts().index"
   ]
  },
  {
   "cell_type": "code",
   "execution_count": 35,
   "metadata": {},
   "outputs": [
    {
     "data": {
      "text/plain": [
       "Index(['management', 'blue-collar', 'technician', 'admin.', 'services',\n",
       "       'retired', 'self-employed', 'unemployed', 'student', 'entrepreneur',\n",
       "       'housemaid'],\n",
       "      dtype='object')"
      ]
     },
     "execution_count": 35,
     "metadata": {},
     "output_type": "execute_result"
    }
   ],
   "source": [
    "job_types"
   ]
  },
  {
   "cell_type": "code",
   "execution_count": 36,
   "metadata": {},
   "outputs": [],
   "source": [
    "for j in job_types:\n",
    "    merge_data_df.loc[(merge_data_df['Education'].isnull()) & (merge_data_df['Job']==j),'Education'] = edu_map.loc[edu_map.index==j][0]"
   ]
  },
  {
   "cell_type": "code",
   "execution_count": 37,
   "metadata": {},
   "outputs": [
    {
     "data": {
      "text/plain": [
       "11"
      ]
     },
     "execution_count": 37,
     "metadata": {},
     "output_type": "execute_result"
    }
   ],
   "source": [
    "merge_data_df['Education'].isnull().sum()\n",
    "# To locate rows where job is null"
   ]
  },
  {
   "cell_type": "code",
   "execution_count": 38,
   "metadata": {},
   "outputs": [
    {
     "data": {
      "text/html": [
       "<div>\n",
       "<style scoped>\n",
       "    .dataframe tbody tr th:only-of-type {\n",
       "        vertical-align: middle;\n",
       "    }\n",
       "\n",
       "    .dataframe tbody tr th {\n",
       "        vertical-align: top;\n",
       "    }\n",
       "\n",
       "    .dataframe thead th {\n",
       "        text-align: right;\n",
       "    }\n",
       "</style>\n",
       "<table border=\"1\" class=\"dataframe\">\n",
       "  <thead>\n",
       "    <tr style=\"text-align: right;\">\n",
       "      <th></th>\n",
       "      <th></th>\n",
       "      <th>Age</th>\n",
       "      <th>Job</th>\n",
       "      <th>Marital</th>\n",
       "      <th>Education</th>\n",
       "      <th>Default</th>\n",
       "      <th>Balance</th>\n",
       "      <th>HHInsurance</th>\n",
       "      <th>CarLoan</th>\n",
       "      <th>Communication</th>\n",
       "      <th>LastContactDay</th>\n",
       "      <th>LastContactMonth</th>\n",
       "      <th>NoOfContacts</th>\n",
       "      <th>DaysPassed</th>\n",
       "      <th>PrevAttempts</th>\n",
       "      <th>Outcome</th>\n",
       "      <th>CarInsurance</th>\n",
       "    </tr>\n",
       "  </thead>\n",
       "  <tbody>\n",
       "    <tr>\n",
       "      <th rowspan=\"8\" valign=\"top\">train</th>\n",
       "      <th>27</th>\n",
       "      <td>45</td>\n",
       "      <td>NaN</td>\n",
       "      <td>divorced</td>\n",
       "      <td>NaN</td>\n",
       "      <td>0</td>\n",
       "      <td>0</td>\n",
       "      <td>0</td>\n",
       "      <td>0</td>\n",
       "      <td>cellular</td>\n",
       "      <td>21</td>\n",
       "      <td>apr</td>\n",
       "      <td>3</td>\n",
       "      <td>-1</td>\n",
       "      <td>0</td>\n",
       "      <td>NoPrevContact</td>\n",
       "      <td>1.0</td>\n",
       "    </tr>\n",
       "    <tr>\n",
       "      <th>239</th>\n",
       "      <td>41</td>\n",
       "      <td>NaN</td>\n",
       "      <td>single</td>\n",
       "      <td>NaN</td>\n",
       "      <td>0</td>\n",
       "      <td>942</td>\n",
       "      <td>0</td>\n",
       "      <td>0</td>\n",
       "      <td>cellular</td>\n",
       "      <td>27</td>\n",
       "      <td>oct</td>\n",
       "      <td>1</td>\n",
       "      <td>188</td>\n",
       "      <td>1</td>\n",
       "      <td>success</td>\n",
       "      <td>1.0</td>\n",
       "    </tr>\n",
       "    <tr>\n",
       "      <th>1147</th>\n",
       "      <td>50</td>\n",
       "      <td>NaN</td>\n",
       "      <td>married</td>\n",
       "      <td>NaN</td>\n",
       "      <td>0</td>\n",
       "      <td>558</td>\n",
       "      <td>0</td>\n",
       "      <td>0</td>\n",
       "      <td>cellular</td>\n",
       "      <td>9</td>\n",
       "      <td>jul</td>\n",
       "      <td>1</td>\n",
       "      <td>683</td>\n",
       "      <td>6</td>\n",
       "      <td>failure</td>\n",
       "      <td>1.0</td>\n",
       "    </tr>\n",
       "    <tr>\n",
       "      <th>2032</th>\n",
       "      <td>44</td>\n",
       "      <td>NaN</td>\n",
       "      <td>married</td>\n",
       "      <td>NaN</td>\n",
       "      <td>0</td>\n",
       "      <td>722</td>\n",
       "      <td>1</td>\n",
       "      <td>0</td>\n",
       "      <td>telephone</td>\n",
       "      <td>22</td>\n",
       "      <td>jul</td>\n",
       "      <td>2</td>\n",
       "      <td>-1</td>\n",
       "      <td>0</td>\n",
       "      <td>NoPrevContact</td>\n",
       "      <td>0.0</td>\n",
       "    </tr>\n",
       "    <tr>\n",
       "      <th>2685</th>\n",
       "      <td>50</td>\n",
       "      <td>NaN</td>\n",
       "      <td>married</td>\n",
       "      <td>NaN</td>\n",
       "      <td>0</td>\n",
       "      <td>1533</td>\n",
       "      <td>0</td>\n",
       "      <td>0</td>\n",
       "      <td>cellular</td>\n",
       "      <td>4</td>\n",
       "      <td>aug</td>\n",
       "      <td>1</td>\n",
       "      <td>-1</td>\n",
       "      <td>0</td>\n",
       "      <td>NoPrevContact</td>\n",
       "      <td>0.0</td>\n",
       "    </tr>\n",
       "    <tr>\n",
       "      <th>2842</th>\n",
       "      <td>28</td>\n",
       "      <td>NaN</td>\n",
       "      <td>single</td>\n",
       "      <td>NaN</td>\n",
       "      <td>0</td>\n",
       "      <td>326</td>\n",
       "      <td>0</td>\n",
       "      <td>0</td>\n",
       "      <td>cellular</td>\n",
       "      <td>11</td>\n",
       "      <td>oct</td>\n",
       "      <td>1</td>\n",
       "      <td>231</td>\n",
       "      <td>1</td>\n",
       "      <td>success</td>\n",
       "      <td>1.0</td>\n",
       "    </tr>\n",
       "    <tr>\n",
       "      <th>2941</th>\n",
       "      <td>78</td>\n",
       "      <td>NaN</td>\n",
       "      <td>married</td>\n",
       "      <td>NaN</td>\n",
       "      <td>0</td>\n",
       "      <td>2235</td>\n",
       "      <td>0</td>\n",
       "      <td>0</td>\n",
       "      <td>telephone</td>\n",
       "      <td>14</td>\n",
       "      <td>apr</td>\n",
       "      <td>3</td>\n",
       "      <td>-1</td>\n",
       "      <td>0</td>\n",
       "      <td>NoPrevContact</td>\n",
       "      <td>1.0</td>\n",
       "    </tr>\n",
       "    <tr>\n",
       "      <th>3615</th>\n",
       "      <td>39</td>\n",
       "      <td>NaN</td>\n",
       "      <td>single</td>\n",
       "      <td>NaN</td>\n",
       "      <td>0</td>\n",
       "      <td>0</td>\n",
       "      <td>0</td>\n",
       "      <td>0</td>\n",
       "      <td>telephone</td>\n",
       "      <td>28</td>\n",
       "      <td>jan</td>\n",
       "      <td>1</td>\n",
       "      <td>-1</td>\n",
       "      <td>0</td>\n",
       "      <td>NoPrevContact</td>\n",
       "      <td>0.0</td>\n",
       "    </tr>\n",
       "    <tr>\n",
       "      <th rowspan=\"3\" valign=\"top\">test</th>\n",
       "      <th>22</th>\n",
       "      <td>47</td>\n",
       "      <td>NaN</td>\n",
       "      <td>married</td>\n",
       "      <td>NaN</td>\n",
       "      <td>0</td>\n",
       "      <td>194</td>\n",
       "      <td>0</td>\n",
       "      <td>0</td>\n",
       "      <td>cellular</td>\n",
       "      <td>4</td>\n",
       "      <td>aug</td>\n",
       "      <td>1</td>\n",
       "      <td>-1</td>\n",
       "      <td>0</td>\n",
       "      <td>NoPrevContact</td>\n",
       "      <td>NaN</td>\n",
       "    </tr>\n",
       "    <tr>\n",
       "      <th>81</th>\n",
       "      <td>46</td>\n",
       "      <td>NaN</td>\n",
       "      <td>married</td>\n",
       "      <td>NaN</td>\n",
       "      <td>0</td>\n",
       "      <td>2367</td>\n",
       "      <td>0</td>\n",
       "      <td>0</td>\n",
       "      <td>cellular</td>\n",
       "      <td>6</td>\n",
       "      <td>jun</td>\n",
       "      <td>3</td>\n",
       "      <td>-1</td>\n",
       "      <td>0</td>\n",
       "      <td>NoPrevContact</td>\n",
       "      <td>NaN</td>\n",
       "    </tr>\n",
       "    <tr>\n",
       "      <th>318</th>\n",
       "      <td>65</td>\n",
       "      <td>NaN</td>\n",
       "      <td>married</td>\n",
       "      <td>NaN</td>\n",
       "      <td>0</td>\n",
       "      <td>4717</td>\n",
       "      <td>0</td>\n",
       "      <td>0</td>\n",
       "      <td>telephone</td>\n",
       "      <td>6</td>\n",
       "      <td>aug</td>\n",
       "      <td>1</td>\n",
       "      <td>-1</td>\n",
       "      <td>0</td>\n",
       "      <td>NoPrevContact</td>\n",
       "      <td>NaN</td>\n",
       "    </tr>\n",
       "  </tbody>\n",
       "</table>\n",
       "</div>"
      ],
      "text/plain": [
       "            Age  Job   Marital Education  Default  Balance  HHInsurance  \\\n",
       "train 27     45  NaN  divorced       NaN        0        0            0   \n",
       "      239    41  NaN    single       NaN        0      942            0   \n",
       "      1147   50  NaN   married       NaN        0      558            0   \n",
       "      2032   44  NaN   married       NaN        0      722            1   \n",
       "      2685   50  NaN   married       NaN        0     1533            0   \n",
       "      2842   28  NaN    single       NaN        0      326            0   \n",
       "      2941   78  NaN   married       NaN        0     2235            0   \n",
       "      3615   39  NaN    single       NaN        0        0            0   \n",
       "test  22     47  NaN   married       NaN        0      194            0   \n",
       "      81     46  NaN   married       NaN        0     2367            0   \n",
       "      318    65  NaN   married       NaN        0     4717            0   \n",
       "\n",
       "            CarLoan Communication  LastContactDay LastContactMonth  \\\n",
       "train 27          0      cellular              21              apr   \n",
       "      239         0      cellular              27              oct   \n",
       "      1147        0      cellular               9              jul   \n",
       "      2032        0     telephone              22              jul   \n",
       "      2685        0      cellular               4              aug   \n",
       "      2842        0      cellular              11              oct   \n",
       "      2941        0     telephone              14              apr   \n",
       "      3615        0     telephone              28              jan   \n",
       "test  22          0      cellular               4              aug   \n",
       "      81          0      cellular               6              jun   \n",
       "      318         0     telephone               6              aug   \n",
       "\n",
       "            NoOfContacts  DaysPassed  PrevAttempts        Outcome  \\\n",
       "train 27               3          -1             0  NoPrevContact   \n",
       "      239              1         188             1        success   \n",
       "      1147             1         683             6        failure   \n",
       "      2032             2          -1             0  NoPrevContact   \n",
       "      2685             1          -1             0  NoPrevContact   \n",
       "      2842             1         231             1        success   \n",
       "      2941             3          -1             0  NoPrevContact   \n",
       "      3615             1          -1             0  NoPrevContact   \n",
       "test  22               1          -1             0  NoPrevContact   \n",
       "      81               3          -1             0  NoPrevContact   \n",
       "      318              1          -1             0  NoPrevContact   \n",
       "\n",
       "            CarInsurance  \n",
       "train 27             1.0  \n",
       "      239            1.0  \n",
       "      1147           1.0  \n",
       "      2032           0.0  \n",
       "      2685           0.0  \n",
       "      2842           1.0  \n",
       "      2941           1.0  \n",
       "      3615           0.0  \n",
       "test  22             NaN  \n",
       "      81             NaN  \n",
       "      318            NaN  "
      ]
     },
     "execution_count": 38,
     "metadata": {},
     "output_type": "execute_result"
    }
   ],
   "source": [
    "merge_data_df[merge_data_df['Education'].isnull()]"
   ]
  },
  {
   "cell_type": "code",
   "execution_count": 39,
   "metadata": {},
   "outputs": [
    {
     "data": {
      "text/plain": [
       "Age                    0\n",
       "Job                   24\n",
       "Marital                0\n",
       "Education             11\n",
       "Default                0\n",
       "Balance                0\n",
       "HHInsurance            0\n",
       "CarLoan                0\n",
       "Communication          0\n",
       "LastContactDay         0\n",
       "LastContactMonth       0\n",
       "NoOfContacts           0\n",
       "DaysPassed             0\n",
       "PrevAttempts           0\n",
       "Outcome                0\n",
       "CarInsurance        1000\n",
       "dtype: int64"
      ]
     },
     "execution_count": 39,
     "metadata": {},
     "output_type": "execute_result"
    }
   ],
   "source": [
    "merge_data_df.isnull().sum()"
   ]
  },
  {
   "cell_type": "code",
   "execution_count": 40,
   "metadata": {},
   "outputs": [],
   "source": [
    "merge_data_df.dropna(inplace=True)"
   ]
  },
  {
   "cell_type": "code",
   "execution_count": 41,
   "metadata": {},
   "outputs": [
    {
     "data": {
      "text/plain": [
       "Age                 0\n",
       "Job                 0\n",
       "Marital             0\n",
       "Education           0\n",
       "Default             0\n",
       "Balance             0\n",
       "HHInsurance         0\n",
       "CarLoan             0\n",
       "Communication       0\n",
       "LastContactDay      0\n",
       "LastContactMonth    0\n",
       "NoOfContacts        0\n",
       "DaysPassed          0\n",
       "PrevAttempts        0\n",
       "Outcome             0\n",
       "CarInsurance        0\n",
       "dtype: int64"
      ]
     },
     "execution_count": 41,
     "metadata": {},
     "output_type": "execute_result"
    }
   ],
   "source": [
    "merge_data_df.isnull().sum()"
   ]
  },
  {
   "cell_type": "markdown",
   "metadata": {},
   "source": [
    "### Seperate out the numerical data"
   ]
  },
  {
   "cell_type": "code",
   "execution_count": 42,
   "metadata": {},
   "outputs": [],
   "source": [
    "numeric_cols = merge_data_df.select_dtypes(include=[np.number]).columns"
   ]
  },
  {
   "cell_type": "code",
   "execution_count": 43,
   "metadata": {},
   "outputs": [
    {
     "data": {
      "text/plain": [
       "Index(['Age', 'Default', 'Balance', 'HHInsurance', 'CarLoan', 'LastContactDay',\n",
       "       'NoOfContacts', 'DaysPassed', 'PrevAttempts', 'CarInsurance'],\n",
       "      dtype='object')"
      ]
     },
     "execution_count": 43,
     "metadata": {},
     "output_type": "execute_result"
    }
   ],
   "source": [
    "numeric_cols"
   ]
  },
  {
   "cell_type": "code",
   "execution_count": 44,
   "metadata": {},
   "outputs": [],
   "source": [
    "merge_data_df_num = merge_data_df[numeric_cols]"
   ]
  },
  {
   "cell_type": "code",
   "execution_count": 45,
   "metadata": {},
   "outputs": [],
   "source": [
    "categorical_cols = merge_data_df.select_dtypes(include=['object']).columns"
   ]
  },
  {
   "cell_type": "code",
   "execution_count": 46,
   "metadata": {},
   "outputs": [
    {
     "data": {
      "text/plain": [
       "Index(['Job', 'Marital', 'Education', 'Communication', 'LastContactMonth',\n",
       "       'Outcome'],\n",
       "      dtype='object')"
      ]
     },
     "execution_count": 46,
     "metadata": {},
     "output_type": "execute_result"
    }
   ],
   "source": [
    "categorical_cols"
   ]
  },
  {
   "cell_type": "code",
   "execution_count": 47,
   "metadata": {},
   "outputs": [],
   "source": [
    "merge_data_df_cat = merge_data_df[categorical_cols]"
   ]
  },
  {
   "cell_type": "code",
   "execution_count": 48,
   "metadata": {},
   "outputs": [],
   "source": [
    "merge_data_df_cat_dummies = pd.get_dummies(merge_data_df_cat)"
   ]
  },
  {
   "cell_type": "code",
   "execution_count": 49,
   "metadata": {},
   "outputs": [],
   "source": [
    "insurance_data_combined = pd.concat([merge_data_df_num,merge_data_df_cat_dummies],axis=1)"
   ]
  },
  {
   "cell_type": "code",
   "execution_count": 50,
   "metadata": {},
   "outputs": [
    {
     "data": {
      "text/html": [
       "<div>\n",
       "<style scoped>\n",
       "    .dataframe tbody tr th:only-of-type {\n",
       "        vertical-align: middle;\n",
       "    }\n",
       "\n",
       "    .dataframe tbody tr th {\n",
       "        vertical-align: top;\n",
       "    }\n",
       "\n",
       "    .dataframe thead th {\n",
       "        text-align: right;\n",
       "    }\n",
       "</style>\n",
       "<table border=\"1\" class=\"dataframe\">\n",
       "  <thead>\n",
       "    <tr style=\"text-align: right;\">\n",
       "      <th></th>\n",
       "      <th></th>\n",
       "      <th>Age</th>\n",
       "      <th>Default</th>\n",
       "      <th>Balance</th>\n",
       "      <th>HHInsurance</th>\n",
       "      <th>CarLoan</th>\n",
       "      <th>LastContactDay</th>\n",
       "      <th>NoOfContacts</th>\n",
       "      <th>DaysPassed</th>\n",
       "      <th>PrevAttempts</th>\n",
       "      <th>CarInsurance</th>\n",
       "      <th>...</th>\n",
       "      <th>LastContactMonth_jun</th>\n",
       "      <th>LastContactMonth_mar</th>\n",
       "      <th>LastContactMonth_may</th>\n",
       "      <th>LastContactMonth_nov</th>\n",
       "      <th>LastContactMonth_oct</th>\n",
       "      <th>LastContactMonth_sep</th>\n",
       "      <th>Outcome_NoPrevContact</th>\n",
       "      <th>Outcome_failure</th>\n",
       "      <th>Outcome_other</th>\n",
       "      <th>Outcome_success</th>\n",
       "    </tr>\n",
       "  </thead>\n",
       "  <tbody>\n",
       "    <tr>\n",
       "      <th rowspan=\"5\" valign=\"top\">train</th>\n",
       "      <th>0</th>\n",
       "      <td>32</td>\n",
       "      <td>0</td>\n",
       "      <td>1218</td>\n",
       "      <td>1</td>\n",
       "      <td>0</td>\n",
       "      <td>28</td>\n",
       "      <td>2</td>\n",
       "      <td>-1</td>\n",
       "      <td>0</td>\n",
       "      <td>0.0</td>\n",
       "      <td>...</td>\n",
       "      <td>0</td>\n",
       "      <td>0</td>\n",
       "      <td>0</td>\n",
       "      <td>0</td>\n",
       "      <td>0</td>\n",
       "      <td>0</td>\n",
       "      <td>1</td>\n",
       "      <td>0</td>\n",
       "      <td>0</td>\n",
       "      <td>0</td>\n",
       "    </tr>\n",
       "    <tr>\n",
       "      <th>1</th>\n",
       "      <td>32</td>\n",
       "      <td>0</td>\n",
       "      <td>1156</td>\n",
       "      <td>1</td>\n",
       "      <td>0</td>\n",
       "      <td>26</td>\n",
       "      <td>5</td>\n",
       "      <td>-1</td>\n",
       "      <td>0</td>\n",
       "      <td>0.0</td>\n",
       "      <td>...</td>\n",
       "      <td>0</td>\n",
       "      <td>0</td>\n",
       "      <td>1</td>\n",
       "      <td>0</td>\n",
       "      <td>0</td>\n",
       "      <td>0</td>\n",
       "      <td>1</td>\n",
       "      <td>0</td>\n",
       "      <td>0</td>\n",
       "      <td>0</td>\n",
       "    </tr>\n",
       "    <tr>\n",
       "      <th>2</th>\n",
       "      <td>29</td>\n",
       "      <td>0</td>\n",
       "      <td>637</td>\n",
       "      <td>1</td>\n",
       "      <td>0</td>\n",
       "      <td>3</td>\n",
       "      <td>1</td>\n",
       "      <td>119</td>\n",
       "      <td>1</td>\n",
       "      <td>1.0</td>\n",
       "      <td>...</td>\n",
       "      <td>1</td>\n",
       "      <td>0</td>\n",
       "      <td>0</td>\n",
       "      <td>0</td>\n",
       "      <td>0</td>\n",
       "      <td>0</td>\n",
       "      <td>0</td>\n",
       "      <td>1</td>\n",
       "      <td>0</td>\n",
       "      <td>0</td>\n",
       "    </tr>\n",
       "    <tr>\n",
       "      <th>3</th>\n",
       "      <td>25</td>\n",
       "      <td>0</td>\n",
       "      <td>373</td>\n",
       "      <td>1</td>\n",
       "      <td>0</td>\n",
       "      <td>11</td>\n",
       "      <td>2</td>\n",
       "      <td>-1</td>\n",
       "      <td>0</td>\n",
       "      <td>1.0</td>\n",
       "      <td>...</td>\n",
       "      <td>0</td>\n",
       "      <td>0</td>\n",
       "      <td>1</td>\n",
       "      <td>0</td>\n",
       "      <td>0</td>\n",
       "      <td>0</td>\n",
       "      <td>1</td>\n",
       "      <td>0</td>\n",
       "      <td>0</td>\n",
       "      <td>0</td>\n",
       "    </tr>\n",
       "    <tr>\n",
       "      <th>4</th>\n",
       "      <td>30</td>\n",
       "      <td>0</td>\n",
       "      <td>2694</td>\n",
       "      <td>0</td>\n",
       "      <td>0</td>\n",
       "      <td>3</td>\n",
       "      <td>1</td>\n",
       "      <td>-1</td>\n",
       "      <td>0</td>\n",
       "      <td>0.0</td>\n",
       "      <td>...</td>\n",
       "      <td>1</td>\n",
       "      <td>0</td>\n",
       "      <td>0</td>\n",
       "      <td>0</td>\n",
       "      <td>0</td>\n",
       "      <td>0</td>\n",
       "      <td>1</td>\n",
       "      <td>0</td>\n",
       "      <td>0</td>\n",
       "      <td>0</td>\n",
       "    </tr>\n",
       "  </tbody>\n",
       "</table>\n",
       "<p>5 rows × 45 columns</p>\n",
       "</div>"
      ],
      "text/plain": [
       "         Age  Default  Balance  HHInsurance  CarLoan  LastContactDay  \\\n",
       "train 0   32        0     1218            1        0              28   \n",
       "      1   32        0     1156            1        0              26   \n",
       "      2   29        0      637            1        0               3   \n",
       "      3   25        0      373            1        0              11   \n",
       "      4   30        0     2694            0        0               3   \n",
       "\n",
       "         NoOfContacts  DaysPassed  PrevAttempts  CarInsurance  ...  \\\n",
       "train 0             2          -1             0           0.0  ...   \n",
       "      1             5          -1             0           0.0  ...   \n",
       "      2             1         119             1           1.0  ...   \n",
       "      3             2          -1             0           1.0  ...   \n",
       "      4             1          -1             0           0.0  ...   \n",
       "\n",
       "         LastContactMonth_jun  LastContactMonth_mar  LastContactMonth_may  \\\n",
       "train 0                     0                     0                     0   \n",
       "      1                     0                     0                     1   \n",
       "      2                     1                     0                     0   \n",
       "      3                     0                     0                     1   \n",
       "      4                     1                     0                     0   \n",
       "\n",
       "         LastContactMonth_nov  LastContactMonth_oct  LastContactMonth_sep  \\\n",
       "train 0                     0                     0                     0   \n",
       "      1                     0                     0                     0   \n",
       "      2                     0                     0                     0   \n",
       "      3                     0                     0                     0   \n",
       "      4                     0                     0                     0   \n",
       "\n",
       "         Outcome_NoPrevContact  Outcome_failure  Outcome_other  \\\n",
       "train 0                      1                0              0   \n",
       "      1                      1                0              0   \n",
       "      2                      0                1              0   \n",
       "      3                      1                0              0   \n",
       "      4                      1                0              0   \n",
       "\n",
       "         Outcome_success  \n",
       "train 0                0  \n",
       "      1                0  \n",
       "      2                0  \n",
       "      3                0  \n",
       "      4                0  \n",
       "\n",
       "[5 rows x 45 columns]"
      ]
     },
     "execution_count": 50,
     "metadata": {},
     "output_type": "execute_result"
    }
   ],
   "source": [
    "insurance_data_combined.head()"
   ]
  },
  {
   "cell_type": "code",
   "execution_count": 51,
   "metadata": {},
   "outputs": [],
   "source": [
    "a = pd.IndexSlice"
   ]
  },
  {
   "cell_type": "code",
   "execution_count": 52,
   "metadata": {},
   "outputs": [],
   "source": [
    "data = insurance_data_combined.loc[['train'],::]"
   ]
  },
  {
   "cell_type": "code",
   "execution_count": 53,
   "metadata": {},
   "outputs": [
    {
     "data": {
      "text/plain": [
       "(3980, 45)"
      ]
     },
     "execution_count": 53,
     "metadata": {},
     "output_type": "execute_result"
    }
   ],
   "source": [
    "data.shape"
   ]
  },
  {
   "cell_type": "code",
   "execution_count": 54,
   "metadata": {},
   "outputs": [],
   "source": [
    "x = data.drop(columns='CarInsurance')"
   ]
  },
  {
   "cell_type": "code",
   "execution_count": 55,
   "metadata": {},
   "outputs": [],
   "source": [
    "y = data['CarInsurance']"
   ]
  },
  {
   "cell_type": "code",
   "execution_count": 56,
   "metadata": {},
   "outputs": [
    {
     "data": {
      "text/plain": [
       "(3980, 44)"
      ]
     },
     "execution_count": 56,
     "metadata": {},
     "output_type": "execute_result"
    }
   ],
   "source": [
    "x.shape"
   ]
  },
  {
   "cell_type": "code",
   "execution_count": 57,
   "metadata": {},
   "outputs": [
    {
     "data": {
      "text/plain": [
       "(3980,)"
      ]
     },
     "execution_count": 57,
     "metadata": {},
     "output_type": "execute_result"
    }
   ],
   "source": [
    "y.shape"
   ]
  },
  {
   "cell_type": "code",
   "execution_count": 58,
   "metadata": {},
   "outputs": [],
   "source": [
    "from sklearn.model_selection import train_test_split\n",
    "x_train, x_test, y_train, y_test = train_test_split(x,y,train_size = 0.7, random_state = 100)"
   ]
  },
  {
   "cell_type": "markdown",
   "metadata": {},
   "source": [
    "# Using Logistic Regression for predictions"
   ]
  },
  {
   "cell_type": "code",
   "execution_count": 59,
   "metadata": {},
   "outputs": [
    {
     "name": "stderr",
     "output_type": "stream",
     "text": [
      "C:\\Users\\Sharad\\anaconda3\\lib\\site-packages\\sklearn\\linear_model\\_logistic.py:762: ConvergenceWarning: lbfgs failed to converge (status=1):\n",
      "STOP: TOTAL NO. of ITERATIONS REACHED LIMIT.\n",
      "\n",
      "Increase the number of iterations (max_iter) or scale the data as shown in:\n",
      "    https://scikit-learn.org/stable/modules/preprocessing.html\n",
      "Please also refer to the documentation for alternative solver options:\n",
      "    https://scikit-learn.org/stable/modules/linear_model.html#logistic-regression\n",
      "  n_iter_i = _check_optimize_result(\n"
     ]
    },
    {
     "data": {
      "text/plain": [
       "LogisticRegression()"
      ]
     },
     "execution_count": 59,
     "metadata": {},
     "output_type": "execute_result"
    }
   ],
   "source": [
    "from sklearn.linear_model import LogisticRegression\n",
    "lr = LogisticRegression()\n",
    "lr.fit(x_train, y_train)"
   ]
  },
  {
   "cell_type": "code",
   "execution_count": 60,
   "metadata": {},
   "outputs": [],
   "source": [
    "y_pred = lr.predict(x_test)"
   ]
  },
  {
   "cell_type": "code",
   "execution_count": 61,
   "metadata": {},
   "outputs": [
    {
     "data": {
      "text/plain": [
       "array([0., 0., 0., ..., 0., 0., 0.])"
      ]
     },
     "execution_count": 61,
     "metadata": {},
     "output_type": "execute_result"
    }
   ],
   "source": [
    "y_pred"
   ]
  },
  {
   "cell_type": "code",
   "execution_count": 62,
   "metadata": {},
   "outputs": [],
   "source": [
    "from sklearn.metrics import confusion_matrix"
   ]
  },
  {
   "cell_type": "code",
   "execution_count": 63,
   "metadata": {},
   "outputs": [
    {
     "data": {
      "text/plain": [
       "array([[601,  82],\n",
       "       [351, 160]], dtype=int64)"
      ]
     },
     "execution_count": 63,
     "metadata": {},
     "output_type": "execute_result"
    }
   ],
   "source": [
    "confusion_matrix(y_test,y_pred)"
   ]
  },
  {
   "cell_type": "code",
   "execution_count": 64,
   "metadata": {},
   "outputs": [],
   "source": [
    "from sklearn.metrics import accuracy_score\n",
    "accuracy = accuracy_score(y_test, y_pred)"
   ]
  },
  {
   "cell_type": "code",
   "execution_count": 65,
   "metadata": {},
   "outputs": [
    {
     "data": {
      "text/plain": [
       "0.6373534338358459"
      ]
     },
     "execution_count": 65,
     "metadata": {},
     "output_type": "execute_result"
    }
   ],
   "source": [
    "accuracy"
   ]
  },
  {
   "cell_type": "code",
   "execution_count": 66,
   "metadata": {},
   "outputs": [],
   "source": [
    "from sklearn.metrics import precision_score  ##[TP / (TP + FP)]\n",
    "from sklearn.metrics import recall_score   ##[TP / (TP + FN)]\n",
    "from sklearn.metrics import f1_score   ##[2*Precision*Recall / (Precision + Recall)]"
   ]
  },
  {
   "cell_type": "code",
   "execution_count": 67,
   "metadata": {},
   "outputs": [
    {
     "data": {
      "text/plain": [
       "0.6611570247933884"
      ]
     },
     "execution_count": 67,
     "metadata": {},
     "output_type": "execute_result"
    }
   ],
   "source": [
    "precision_score(y_test, y_pred)\n",
    "# Measures the ability of the classifier not to label as positive a sample that is negative."
   ]
  },
  {
   "cell_type": "code",
   "execution_count": 68,
   "metadata": {},
   "outputs": [
    {
     "data": {
      "text/plain": [
       "0.3131115459882583"
      ]
     },
     "execution_count": 68,
     "metadata": {},
     "output_type": "execute_result"
    }
   ],
   "source": [
    "recall_score(y_test, y_pred)\n",
    "# Measures the proportion of positives that are correctly predicted"
   ]
  },
  {
   "cell_type": "code",
   "execution_count": 69,
   "metadata": {},
   "outputs": [
    {
     "data": {
      "text/plain": [
       "0.4249667994687915"
      ]
     },
     "execution_count": 69,
     "metadata": {},
     "output_type": "execute_result"
    }
   ],
   "source": [
    "f1_score(y_test, y_pred)"
   ]
  },
  {
   "cell_type": "markdown",
   "metadata": {},
   "source": [
    "# Roc curve"
   ]
  },
  {
   "cell_type": "markdown",
   "metadata": {},
   "source": [
    "Plot of true positive rate against false positive rate at various threshold settings"
   ]
  },
  {
   "cell_type": "code",
   "execution_count": 70,
   "metadata": {},
   "outputs": [],
   "source": [
    "from sklearn.metrics import roc_auc_score"
   ]
  },
  {
   "cell_type": "code",
   "execution_count": 71,
   "metadata": {},
   "outputs": [],
   "source": [
    "roc_auc = roc_auc_score(y_test,lr.predict_proba(x_test)[:,1])"
   ]
  },
  {
   "cell_type": "code",
   "execution_count": 72,
   "metadata": {},
   "outputs": [
    {
     "data": {
      "text/plain": [
       "0.6872695286421995"
      ]
     },
     "execution_count": 72,
     "metadata": {},
     "output_type": "execute_result"
    }
   ],
   "source": [
    "roc_auc"
   ]
  },
  {
   "cell_type": "markdown",
   "metadata": {},
   "source": [
    "# Plotting the ROC curve"
   ]
  },
  {
   "cell_type": "code",
   "execution_count": 73,
   "metadata": {},
   "outputs": [],
   "source": [
    "from sklearn.metrics import roc_curve"
   ]
  },
  {
   "cell_type": "code",
   "execution_count": 74,
   "metadata": {},
   "outputs": [],
   "source": [
    "fpr, tpr, thresholds = roc_curve(y_test,lr.predict_proba(x_test)[:,1])"
   ]
  },
  {
   "cell_type": "code",
   "execution_count": 75,
   "metadata": {},
   "outputs": [
    {
     "data": {
      "text/plain": [
       "[<matplotlib.lines.Line2D at 0x8fb8fdf610>]"
      ]
     },
     "execution_count": 75,
     "metadata": {},
     "output_type": "execute_result"
    },
    {
     "data": {
      "image/png": "[encoded data removed]",
      "text/plain": [
       "<Figure size 432x288 with 1 Axes>"
      ]
     },
     "metadata": {
      "needs_background": "light"
     },
     "output_type": "display_data"
    }
   ],
   "source": [
    "plt.plot(fpr,tpr)"
   ]
  },
  {
   "cell_type": "markdown",
   "metadata": {},
   "source": [
    "The ideal curve should lean more close on y axis at the starting and more high afterwards on x axis"
   ]
  },
  {
   "cell_type": "code",
   "execution_count": 76,
   "metadata": {},
   "outputs": [
    {
     "data": {
      "text/plain": [
       "array([0., 0., 0., ..., 0., 0., 0.])"
      ]
     },
     "execution_count": 76,
     "metadata": {},
     "output_type": "execute_result"
    }
   ],
   "source": [
    "y_pred = lr.predict(x_test)\n",
    "y_pred\n",
    "# This is known as hard prediction where prediction is either 0 or 1"
   ]
  },
  {
   "cell_type": "code",
   "execution_count": 77,
   "metadata": {},
   "outputs": [
    {
     "data": {
      "text/plain": [
       "array([0.38543556, 0.35691897, 0.05587455, ..., 0.24932891, 0.28512723,\n",
       "       0.26481539])"
      ]
     },
     "execution_count": 77,
     "metadata": {},
     "output_type": "execute_result"
    }
   ],
   "source": [
    "# This is known as soft prediction where exact probability of positive class is shown\n",
    "lr.predict_proba(x_test)[:,1]"
   ]
  },
  {
   "cell_type": "code",
   "execution_count": 78,
   "metadata": {},
   "outputs": [
    {
     "data": {
      "text/plain": [
       "array([0, 0, 0, ..., 0, 0, 0])"
      ]
     },
     "execution_count": 78,
     "metadata": {},
     "output_type": "execute_result"
    }
   ],
   "source": [
    "# Changing the threshold value\n",
    "# threshold is the value, according to which machine will make hard predictions, below the threshold 0 and above threshold it will take as 1\n",
    "threshold = 0.6\n",
    "y_pred = (lr.predict_proba(x_test)[:,1]>threshold).astype(int)\n",
    "y_pred\n",
    "# Here, we are calling hard predictions after changing the threshold "
   ]
  },
  {
   "cell_type": "code",
   "execution_count": 79,
   "metadata": {},
   "outputs": [
    {
     "data": {
      "text/plain": [
       "array([[648, 407],\n",
       "       [ 35, 104]], dtype=int64)"
      ]
     },
     "execution_count": 79,
     "metadata": {},
     "output_type": "execute_result"
    }
   ],
   "source": [
    "confusion_matrix(y_pred,y_test)"
   ]
  },
  {
   "cell_type": "code",
   "execution_count": 80,
   "metadata": {},
   "outputs": [
    {
     "data": {
      "text/plain": [
       "0.6298157453936348"
      ]
     },
     "execution_count": 80,
     "metadata": {},
     "output_type": "execute_result"
    }
   ],
   "source": [
    "accuracy_score(y_test, y_pred)"
   ]
  },
  {
   "cell_type": "code",
   "execution_count": 81,
   "metadata": {},
   "outputs": [],
   "source": [
    "fpr, tpr, thresholds = roc_curve(y_test,lr.predict_proba(x_test)[:,1])"
   ]
  },
  {
   "cell_type": "code",
   "execution_count": 82,
   "metadata": {},
   "outputs": [
    {
     "data": {
      "text/plain": [
       "[<matplotlib.lines.Line2D at 0x8fb9033580>]"
      ]
     },
     "execution_count": 82,
     "metadata": {},
     "output_type": "execute_result"
    },
    {
     "data": {
      "image/png": "[encoded data removed]",
      "text/plain": [
       "<Figure size 432x288 with 1 Axes>"
      ]
     },
     "metadata": {
      "needs_background": "light"
     },
     "output_type": "display_data"
    }
   ],
   "source": [
    "plt.plot(fpr,tpr)\n",
    "# ROC curve is usually plotted on the basis of hard predictions\n",
    "# Roc curve wont be changed if we cahnge the thresholds because the curve has been plotted on the basis of various thresholds\n",
    "# Roc curve will change if we plot the curve on soft predictions"
   ]
  }
 ],
 "metadata": {
  "kernelspec": {
   "display_name": "Python 3",
   "language": "python",
   "name": "python3"
  },
  "language_info": {
   "codemirror_mode": {
    "name": "ipython",
    "version": 3
   },
   "file_extension": ".py",
   "mimetype": "text/x-python",
   "name": "python",
   "nbconvert_exporter": "python",
   "pygments_lexer": "ipython3",
   "version": "3.8.3"
  }
 },
 "nbformat": 4,
 "nbformat_minor": 2
}
